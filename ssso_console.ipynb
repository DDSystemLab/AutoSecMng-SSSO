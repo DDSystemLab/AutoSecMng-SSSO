{
 "cells": [
  {
   "cell_type": "code",
   "execution_count": 3,
   "metadata": {},
   "outputs": [
    {
     "ename": "ImportError",
     "evalue": "No module named sssontology",
     "output_type": "error",
     "traceback": [
      "\u001b[1;31m---------------------------------------------------------------------------\u001b[0m",
      "\u001b[1;31mImportError\u001b[0m                               Traceback (most recent call last)",
      "\u001b[1;32m<ipython-input-3-0c9cc2563158>\u001b[0m in \u001b[0;36m<module>\u001b[1;34m()\u001b[0m\n\u001b[0;32m      1\u001b[0m \u001b[1;31m#Simulate RPC\u001b[0m\u001b[1;33m\u001b[0m\u001b[1;33m\u001b[0m\u001b[0m\n\u001b[0;32m      2\u001b[0m \u001b[1;32mfrom\u001b[0m \u001b[0mrdflib\u001b[0m \u001b[1;32mimport\u001b[0m \u001b[0mRDFS\u001b[0m\u001b[1;33m,\u001b[0m \u001b[0mRDF\u001b[0m\u001b[1;33m,\u001b[0m \u001b[0mNamespace\u001b[0m\u001b[1;33m,\u001b[0m \u001b[0mGraph\u001b[0m\u001b[1;33m,\u001b[0m \u001b[0mURIRef\u001b[0m\u001b[1;33m\u001b[0m\u001b[0m\n\u001b[1;32m----> 3\u001b[1;33m \u001b[1;32mfrom\u001b[0m \u001b[0msssontology\u001b[0m \u001b[1;32mimport\u001b[0m \u001b[0msssontology\u001b[0m\u001b[1;33m\u001b[0m\u001b[0m\n\u001b[0m\u001b[0;32m      4\u001b[0m \u001b[1;32mimport\u001b[0m \u001b[0mrandom\u001b[0m\u001b[1;33m\u001b[0m\u001b[0m\n\u001b[0;32m      5\u001b[0m \u001b[0mssso\u001b[0m \u001b[1;33m=\u001b[0m \u001b[0mNamespace\u001b[0m\u001b[1;33m(\u001b[0m\u001b[1;34m'http://www.semanticweb.org/linch/ontologies/2018/11/ssso#'\u001b[0m\u001b[1;33m)\u001b[0m\u001b[1;33m\u001b[0m\u001b[0m\n",
      "\u001b[1;31mImportError\u001b[0m: No module named sssontology"
     ]
    }
   ],
   "source": [
    "#Simulate RPC\n",
    "from rdflib import RDFS, RDF, Namespace, Graph, URIRef\n",
    "from sssontology import sssontology\n",
    "import random\n",
    "ssso = Namespace('http://www.semanticweb.org/linch/ontologies/2018/11/ssso#')\n",
    "SmartConferenceRoom=sssontology('ssso_v1.ttl')"
   ]
  },
  {
   "cell_type": "code",
   "execution_count": 2,
   "metadata": {},
   "outputs": [],
   "source": [
    "def sl_update(obj,au,sl):\n",
    "    try:\n",
    "        prev_sl=SmartConferenceRoom.query(PREFIX+\"\"\"select ?sl where{?sl rdf:type ssso:SecurityLevel. ssso:%s ssso:has ?sl.}\"\"\"%obj)[0][0].split(':')[-1]\n",
    "        prev_auth=SmartConferenceRoom.query(PREFIX+\"\"\"select ?au where{?au rdf:type ssso:Authentication. ssso:%s ssso:isProvidedBy ?au.}\"\"\"%obj)\n",
    "    except:\n",
    "        print(\"sl_update_error\")\n",
    "        return\n",
    "    label=False\n",
    "    for i in range(len(prev_auth)):\n",
    "        if(au in prev_auth[i][0]):\n",
    "            label=True\n",
    "    if(not label):\n",
    "        SmartConferenceRoom.remove((ssso[obj],ssso['has'],ssso[prev_sl]))\n",
    "        new_sl=abs(int(prev_sl[-1])+int(sl[-1]))\n",
    "        if(new_sl>4):\n",
    "            new_sl=4\n",
    "        new_sl='SL-'+str(new_sl)\n",
    "        SmartConferenceRoom.add((ssso[obj],ssso['has'],ssso[new_sl]))\n",
    "        SmartConferenceRoom.add((ssso[obj],ssso['isProvidedBy'],ssso[au]))\n",
    "        print('sl_update: %s:%s->%s'%(obj,prev_sl,new_sl))\n",
    "        SmartConferenceRoom.commit()\n",
    "        SmartConferenceRoom.refresh()\n",
    "    else:\n",
    "        print('Repeated Authentication: Current sl: %s'%(prev_sl))\n",
    "def sl_diff(sl1,sl2):\n",
    "    return('SL-'+str(abs(int(sl1[-1])-int(sl2[-1]))))\n",
    "def max_tl(tl_list):\n",
    "    if(['ssso:TL-High']in tl_list):\n",
    "        return ('TL-High')\n",
    "    elif(['ssso:TL-Mid']in tl_list):\n",
    "        return ('TL-Mid')\n",
    "    elif(['ssso:TL-Low']in tl_list):\n",
    "        return('TL-Low')\n",
    "    else:\n",
    "        return('TL-None')\n",
    "def sldegradation(sl,tl):\n",
    "    if(tl=='TL-High'):\n",
    "        sl_value=int(sl[-1])-4\n",
    "    elif(tl=='TL-Mid'):\n",
    "        sl_value=int(sl[-1])-2\n",
    "    elif(tl=='TL-Low'):\n",
    "        sl_value=int(sl[-1])-1\n",
    "    elif(tl=='TL-None'):\n",
    "        sl_value=int(sl[-1])\n",
    "        return('SL-'+str(sl_value))\n",
    "    if(sl_value<0):\n",
    "        sl_value=0\n",
    "    print('Security Level degrades to %s'%('SL-'+str(sl_value)))\n",
    "    return('SL-'+str(sl_value))\n",
    "    \n",
    "def auth(usr,device,sl):\n",
    "    sl_satisfied_auth=SmartConferenceRoom.query(PREFIX+\"\"\"select ?au where{?au rdf:type ssso:Authentication. ?au ssso:provides ssso:%s. }\"\"\"%('SL-2'))\n",
    "    usr_prev_auth=SmartConferenceRoom.query(PREFIX+\"\"\"select ?au where{?au rdf:type ssso:Authentication. ssso:%s ssso:isProvidedBy ?au.}\"\"\"%usr)\n",
    "    current_device_auth=SmartConferenceRoom.query(PREFIX+\"\"\"select ?au where{?au rdf:type ssso:Authentication. ?au ssso:provides ssso:%s. ssso:%s ssso:provides ?au. ssso:%s ssso:is ssso:Enabled.}\"\"\"%(sl,device,device))\n",
    "    #other_device_auth=SmartConferenceRoom.query(PREFIX+\"\"\"select ?au where{?au rdf:type ssso:Authentication. ?au ssso:provides ssso:%s. ssso:%s ssso:provides ?au. ssso:%s ssso:is ssso:Enabled.}\"\"\"%(sl,device,device))\n",
    "    for i in range(len(current_device_auth)):\n",
    "        for j in range(len(usr_prev_auth)):\n",
    "            if(usr_prev_auth[j][0]==current_device_auth[i][0]):\n",
    "                current_device_auth[i]=['Invalid']\n",
    "    try:\n",
    "        current_device_auth.remove(['Invalid'])\n",
    "    except:\n",
    "        1\n",
    "    for i in range(len(sl_satisfied_auth)):\n",
    "        for j in range(len(usr_prev_auth)):\n",
    "            if(usr_prev_auth[j][0]==sl_satisfied_auth[i][0]):\n",
    "                sl_satisfied_auth[i]=['Invalid']\n",
    "    try:\n",
    "        sl_satisfied_auth.remove(['Invalid'])\n",
    "    except:\n",
    "        1\n",
    "    if(len(current_device_auth)!=0):\n",
    "        print('Please use %s to perform %s'%(device,random.sample(current_device_auth,1)[0][0].split(':')[-1]))\n",
    "    else:\n",
    "        au=random.sample(sl_satisfied_auth,1)[0][0].split(':')[-1]\n",
    "        dev=SmartConferenceRoom.query(PREFIX+\"\"\"select ?dev where{?dev ssso:is ssso:Enabled. ?dev ssso:provides ssso:%s.}\"\"\"%(au))\n",
    "        print('Please use %s to perform %s'%(random.sample(dev,1)[0][0].split(':')[-1],au))\n",
    "def sl_runtime_check():\n",
    "    try:\n",
    "        roleofroom=SmartConferenceRoom.query(PREFIX+\"\"\"select ?rr where {ssso:RoleofRoom ssso:has ?rr.}\"\"\")\n",
    "        print(roleofroom)\n",
    "        if(len(roleofroom)==0):\n",
    "            return\n",
    "    except:\n",
    "        return\n",
    "    SmartConferenceRoom.refresh()\n",
    "    active_service=SmartConferenceRoom.query(PREFIX+\"\"\"select ?serv where{ ?serv rdf:type ssso:Data. ?serv ssso:is ssso:Active.}\"\"\")\n",
    "    suspended_service=SmartConferenceRoom.query(PREFIX+\"\"\"select ?serv where{ ?serv ssso:is ssso:Suspended.}\"\"\")\n",
    "    current_sl=SmartConferenceRoom.query(PREFIX+\"\"\"select ?sl where{ssso:CurrentSecurityLevel ssso:has ?sl.}\"\"\")[0][0].split(':')[-1]\n",
    "    tl_list=SmartConferenceRoom.query(PREFIX+\"\"\"select ?tl where {?tr rdf:type ssso:Threat. ?tl rdf:type ssso:ThreatLevel.?tr ssso:is ssso:Active. ?tr ssso:has ?tl}\"\"\")\n",
    "    current_tl=max_tl(tl_list)\n",
    "    SmartConferenceRoom.remove((ssso['CurrentSecurityLevel'], ssso['has'], ssso[current_sl]))\n",
    "    current_sl=sldegradation(current_sl,current_tl)\n",
    "    SmartConferenceRoom.add((ssso['CurrentSecurityLevel'], ssso['has'], ssso[current_sl]))\n",
    "    SmartConferenceRoom.commit()\n",
    "    SmartConferenceRoom.refresh()\n",
    "    for i in range(len(active_service)):\n",
    "        servicename=active_service[i][0]\n",
    "        required_sl=SmartConferenceRoom.query(PREFIX+\"\"\"select ?sl where{?sl rdf:type ssso:SecurityLevel. %s ssso:requires ?sl.}\"\"\"%servicename)[0][0].split(':')[-1]\n",
    "        if(current_sl<required_sl): #for future use, consider user sl\n",
    "            SmartConferenceRoom.remove((ssso[servicename.split(':')[-1]],ssso['is'],ssso['Active']))\n",
    "            SmartConferenceRoom.add((ssso[servicename.split(':')[-1]],ssso['is'],ssso['Suspended']))\n",
    "            print(\"%s is suspended, since the current security level is not satisified.\"%servicename.split(':')[-1])\n",
    "    for i in range(len(suspended_service)):\n",
    "        servicename=suspended_service[i][0]\n",
    "        required_sl=SmartConferenceRoom.query(PREFIX+\"\"\"select ?sl where{?sl rdf:type ssso:SecurityLevel. %s ssso:requires ?sl.}\"\"\"%servicename)[0][0].split(':')[-1]\n",
    "        if(current_sl>=required_sl): #for future use, consider user sl\n",
    "            SmartConferenceRoom.remove((ssso[servicename.split(':')[-1]],ssso['is'],ssso['Suspended']))\n",
    "            SmartConferenceRoom.add((ssso[servicename.split(':')[-1]],ssso['is'],ssso['Active']))\n",
    "            print(\"%s is resumed, since the threat is mitigated and current security level is satisified.\"%servicename.split(':')[-1])  \n",
    "    SmartConferenceRoom.commit()\n",
    "    SmartConferenceRoom.refresh()"
   ]
  },
  {
   "cell_type": "code",
   "execution_count": 3,
   "metadata": {},
   "outputs": [],
   "source": [
    "PREFIX=\"\\nPREFIX rdf: <http://www.w3.org/1999/02/22-rdf-syntax-ns#>\\nPREFIX ssso: <http://www.semanticweb.org/linch/ontologies/2018/11/ssso#>\\nPREFIX rdfs: <http://www.w3.org/2000/01/rdf-schema#>\\n\"\n",
    "def report_event(data):\n",
    "    SmartConferenceRoom.refresh()\n",
    "    try:\n",
    "        current_sl=SmartConferenceRoom.query(PREFIX+\"\"\"select ?sl where{ssso:CurrentSecurityLevel ssso:has ?sl.}\"\"\")[0][0].split(':')[-1]\n",
    "    except:\n",
    "        current_sl=-1\n",
    "        #return\n",
    "    event_name=data[\"event\"][\"EventName\"]\n",
    "    event_type=data[\"event\"][\"EventType\"]\n",
    "    event_status=data[\"event\"][\"EventStatus\"]\n",
    "    event_timestamp=data[\"event\"][\"EventTimestamp\"]\n",
    "    event_id=data[\"event\"][\"EventID\"]\n",
    "    event_message=data[\"event\"][\"EventMessage\"]\n",
    "    device_name=data[\"device\"][\"DeviceName\"]\n",
    "    if(event_type==\"Threat\" and event_status==\"Active\"):\n",
    "        ql=\"\"\"select ?t where{ssso:%s ssso:is ?t.}\"\"\"%event_name\n",
    "        res=SmartConferenceRoom.query(PREFIX+ql)\n",
    "        if(res==[]):\n",
    "            print(\"Unknown threat: Would you like to add this threat into knowledge database?\")\n",
    "        elif(res[0][0]==\"ssso:Template\"):\n",
    "            tl=SmartConferenceRoom.query(PREFIX+\"\"\"select ?tl where{?tl rdf:type ssso:ThreatLevel. ssso:%s ssso:has ?tl.}\"\"\"%event_name)[0][0].split(':')[-1]\n",
    "            SmartConferenceRoom.add((ssso[event_name+'_'+event_id], RDF.type, ssso['Threat'])) #Add Threat Instance\n",
    "            SmartConferenceRoom.add((ssso[event_name+'_'+event_id], ssso['has'], ssso[tl])) #Add ThreatLevel according to the template\n",
    "            SmartConferenceRoom.add((ssso[event_name+'_'+event_id], ssso['isProvidedBy'], ssso[device_name])) #Add Device Information\n",
    "            #SmartConferenceRoom.add((ssso[event_name+'_'+event_id], ssso['influences'], ssso[device_name])) #For future use (Influence)\n",
    "            SmartConferenceRoom.add((ssso[event_name+'_'+event_id], ssso['is'], ssso['Active'])) #Status: Active Threat\n",
    "            print(\"New Threat: \"+event_name+'_'+event_id+\" ThreatLevel: \"+tl)\n",
    "            SmartConferenceRoom.commit()\n",
    "            SmartConferenceRoom.refresh()\n",
    "            if(current_sl!=-1):\n",
    "                sl_runtime_check()\n",
    "    elif(event_type==\"Threat\" and \"Mitigated\" in event_status):\n",
    "        ql=\"\"\"select ?t where{ssso:%s ssso:is ?t.}\"\"\"%(event_name+\"_\"+event_status.split(\":\")[1])\n",
    "        res=SmartConferenceRoom.query(PREFIX+ql)\n",
    "        if(res==[]):\n",
    "            print(\"Unknown threat event: Would you like to manually remove threats?\")\n",
    "        elif(res[0][0]==\"ssso:Active\"):\n",
    "            SmartConferenceRoom.remove((ssso[event_name+\"_\"+event_status.split(\":\")[1]],None,None))\n",
    "            print(\"Threat Removed: \"+event_name+'_'+event_status.split(\":\")[1])\n",
    "            SmartConferenceRoom.commit()\n",
    "            SmartConferenceRoom.refresh()\n",
    "            if(current_sl!=-1):\n",
    "                sl_runtime_check()\n",
    "        else:\n",
    "            print(\"Inactive threat: Would you like to manually remove threats?\")\n",
    "    if(event_type==\"Authentication\"):\n",
    "        if(not(\"User\" in data)):\n",
    "            print(\"Invalid Authentication\")\n",
    "            return\n",
    "        username=data['User']['UserName']\n",
    "        uid=data['User']['UID']\n",
    "        name=SmartConferenceRoom.query((PREFIX+\"\"\"select ?n where{?n rdf:type ssso:User. ?n ssso:has ssso:%s .}\"\"\"%uid))[0][0].split(':')[-1]\n",
    "        if(name!=username):\n",
    "            print(\"Uninvited User\")\n",
    "            return\n",
    "        ql=\"\"\"select ?t where{?t rdf:type ssso:Status. ssso:%s ssso:is ?t.}\"\"\"%irisauth_alice[\"event\"][\"EventName\"]\n",
    "        res=SmartConferenceRoom.query(PREFIX+ql)\n",
    "        if(res==[]):\n",
    "            print(\"Invalid Authentication\")\n",
    "        elif(res[0][0]==\"ssso:Enabled\"):\n",
    "            sl=SmartConferenceRoom.query(PREFIX+\"\"\"select ?sl where{?sl rdf:type ssso:SecurityLevel. ssso:%s ssso:provides ?sl.}\"\"\"%event_name)[0][0].split(':')[-1]\n",
    "            #usl=SmartConferenceRoom.query(PREFIX+\"\"\"select ?sl where{?sl rdf:type ssso:SecurityLevel. ssso:%s ssso:has ?sl.}\"\"\"%username)[0][0].split(':')[-1]\n",
    "            sl_update(username,event_name,sl)\n",
    "        else:\n",
    "            print(\"Invalid Authentication\")\n",
    "    if(event_type==\"Request\"):\n",
    "        ql=\"\"\"select ?st where{?st rdf:type ssso:Status. ssso:%s ssso:is ?st.}\"\"\"%device_name\n",
    "        res=SmartConferenceRoom.query(PREFIX+ql)\n",
    "        if(res==[]):\n",
    "            print(\"Disabled Device: Request Denied\")\n",
    "            return\n",
    "        if(res[0][0].split(':')[-1]!=\"Enabled\"):\n",
    "            print(\"Disabled Device: Request Denied\")\n",
    "            return\n",
    "        servicename=data['event']['EventName']\n",
    "        ql=\"\"\"select ?sl where{?sl rdf:type ssso:SecurityLevel. ssso:%s ssso:requires ?sl.}\"\"\"%servicename\n",
    "        res=SmartConferenceRoom.query(PREFIX+ql)\n",
    "        if(res==[]):\n",
    "            print(\"Unknown Service: Request Denied\") #Since roleofroom=classified\n",
    "            return\n",
    "        required_sl=res[0][0].split(':')[-1]\n",
    "        service_category=SmartConferenceRoom.query(PREFIX+\"\"\"select ?sc where{?sc rdfs:subClassOf ssso:Service. ssso:%s rdf:type ?sc.}\"\"\"%servicename)\n",
    "        if((not(\"User\" in data)and(current_sl>=required_sl))):\n",
    "            print(\"Request Approved: %s\"%servicename)\n",
    "            if(not(['ssso:Control'] in service_category or ['ssso:Authentication'] in service_category)):\n",
    "                SmartConferenceRoom.add((ssso[event_name], ssso['is'], ssso['Active']))\n",
    "                print(\"%s is activated.\"%servicename)\n",
    "                SmartConferenceRoom.commit()\n",
    "                SmartConferenceRoom.refresh()\n",
    "            return\n",
    "        elif((not(\"User\" in data)and(current_sl<required_sl))):\n",
    "            print(\"Request Denied: Low SL current_sl:%s required_sl:%s\"%(current_sl,required_sl))\n",
    "            sl_df=sl_diff(current_sl,required_sl)\n",
    "            return\n",
    "        if(((\"User\" in data)and(current_sl>=required_sl)and(SmartConferenceRoom.query(PREFIX+\"\"\"select ?sl where{?sl rdf:type ssso:SecurityLevel. ssso:%s ssso:has ?sl.}\"\"\"%data['User']['UserName'])[0][0].split(':')[-1]>=required_sl))):\n",
    "            print(\"Request Approved: %s\"%servicename)\n",
    "            if(not(['ssso:Control'] in service_category or ['ssso:Authentication'] in service_category)):\n",
    "                SmartConferenceRoom.add((ssso[event_name], ssso['is'], ssso['Active']))\n",
    "                print(\"%s is activated.\"%servicename)\n",
    "                SmartConferenceRoom.commit()\n",
    "                SmartConferenceRoom.refresh()\n",
    "        else:\n",
    "            username=data['User']['UserName']\n",
    "            usr_sl=SmartConferenceRoom.query(PREFIX+\"\"\"select ?sl where{?sl rdf:type ssso:SecurityLevel. ssso:%s ssso:has ?sl.}\"\"\"%data['User']['UserName'])[0][0].split(':')[-1]\n",
    "            print(\"Request Denied: Low SL current_sl:%s user_sl:%s required_sl:%s\"%(current_sl,usr_sl,required_sl))\n",
    "            sl_df=max(sl_diff(current_sl,required_sl),sl_diff(usr_sl,required_sl))\n",
    "            print(sl_df+' authentication is required.')\n",
    "            auth(username,device_name,sl_df)\n",
    "            return\n",
    "            "
   ]
  },
  {
   "cell_type": "code",
   "execution_count": 4,
   "metadata": {},
   "outputs": [],
   "source": [
    "occupancy_camera_event={\n",
    "    \"guid\": \"95a9c559-9b43-41b5-a270-325e04131735\", # allows distinguishing simultaneous events\n",
    "    \"timestamp\":\"2018-07-03T21:23:42.581662+00:00\", # ISO in UTC, but could be Unix, not unique\n",
    "    \"event\":{ \n",
    "\t# Not every event contains non-NULL values for each of these\n",
    "\t# but the items *should* be filled with NULL for simplicity of parsing\n",
    "\t\"EventID\":\"82b69dc9-cdbb-4637-ac7a-2141b4fee214\",  # globally unique id\n",
    "\t\"EventTimestamp\":\"2018-07-03T21:23:43.681662+00:00\", #in the case the event time != report timestamp, not unique\n",
    "\t\"EventType\":\"Threat\", # conveys criticality or broad class of the event\n",
    "\t\"EventStatus\":\"Active\",#Active / mitigated\n",
    "\t\"EventName\":\"Unexpected_Occupancy\", # a type name, i.e., identifies the action, human readable\n",
    "\t\"EventMessage\":\"Unexpected_Occupancy:Environment:Compromised\" # for future use, not generated yet (description of event)\n",
    "    },\n",
    "\n",
    "    \"device\":\n",
    "    {\n",
    "\t\"DeviceID\":\"e672ea83-2fb9-4f92-8cc8-d14f068b7d93\", # globally unique, typically hash\n",
    "\t\"DeviceName\":\"Camera\", # conveys identification to user/admin, human readable\n",
    "\t\"DeviceLocation\":\"BLD4-F16-M201-2\", # human readable description of abstract location\n",
    "\t\"DeviceTypeName\":\"AV\", # Samsung Galaxy 204, iPhone XXVI, etc.\n",
    "\t\"DeviceGroup\":[\"Secure_Smart_Conference_Room_V1\"], # list of administrative groups from UEM or other manager\n",
    "\n",
    "\t\"DeviceAttributes\":{ # colour commentary\n",
    "\t    \"attributes1\":\"\",\n",
    "\t    \"attributes2\":\"\",\n",
    "\t},\n",
    "\n",
    "\t# status of the individual modules as a list of pairs of values\n",
    "\t#INCLUDES the tagging or other information about attack and its impact on the data\n",
    "\t\"Status\": {\"wifi\":\"Connected\", \"Brightness\": \"80\", \"connection_strength\": 12.013}\n",
    "    }}"
   ]
  },
  {
   "cell_type": "code",
   "execution_count": 5,
   "metadata": {},
   "outputs": [
    {
     "name": "stdout",
     "output_type": "stream",
     "text": [
      "New Threat: Unexpected_Occupancy_82b69dc9-cdbb-4637-ac7a-2141b4fee214 ThreatLevel: TL-High\n"
     ]
    }
   ],
   "source": [
    "report_event(occupancy_camera_event)"
   ]
  },
  {
   "cell_type": "code",
   "execution_count": 6,
   "metadata": {},
   "outputs": [],
   "source": [
    "occupancy_light_event={\n",
    "    \"guid\": \"90cf4586-c3f5-4733-bbcf-95f833f2d321\", # allows distinguishing simultaneous events\n",
    "    \"timestamp\":\"2018-07-03T21:23:40.431498+00:00\", # ISO in UTC, but could be Unix, not unique\n",
    "    \"event\":{ \n",
    "\t# Not every event contains non-NULL values for each of these\n",
    "\t# but the items *should* be filled with NULL for simplicity of parsing\n",
    "\t\"EventID\":\"98903ea9-9529-476a-a1c8-cb2c57f8fb7a\",  # globally unique id\n",
    "\t\"EventTimestamp\":\"2018-07-03T21:23:39.123477+00:00\", #in the case the event time != report timestamp, not unique\n",
    "\t\"EventType\":\"Threat\", # conveys criticality or broad class of the event\n",
    "\t\"EventStatus\":\"Active\", #Active / mitigated\n",
    "\t\"EventName\":\"Unexpected_Occupancy\", # a type name, i.e., identifies the action, human readable\n",
    "\t\"EventMessage\":\"Unexpected_Occupancy:Environment:Compromised\" # for future use, not generated yet (description of event)\n",
    "    },\n",
    "    \"device\":\n",
    "    {\n",
    "\t\"DeviceID\":\"67724eba-754b-4e52-8d39-cf2092c1b049\", # globally unique, typically hash\n",
    "\t\"DeviceName\":\"Dimmable_Lights\", # conveys identification to user/admin, human readable\n",
    "\t\"DeviceLocation\":\"BLD4-F16-M201-2\", # human readable description of abstract location\n",
    "\t\"DeviceTypeName\":\"Lighting\", # Samsung Galaxy 204, iPhone XXVI, etc.\n",
    "\t\"DeviceGroup\":[\"Secure_Smart_Conference_Room_V1\"], # list of administrative groups from UEM or other manager\n",
    "\n",
    "\t\"DeviceAttributes\":{ # colour commentary\n",
    "\t    \"attributes1\":\"\",\n",
    "\t    \"attributes2\":\"\",\n",
    "\t},\n",
    "\n",
    "\t# status of the individual modules as a list of pairs of values\n",
    "\t#INCLUDES the tagging or other information about attack and its impact on the data\n",
    "\t\"Status\": {\"wifi\":\"Connected\", \"Brightness\": \"40\", \"connection_strength\": 14.013}\n",
    "    }}"
   ]
  },
  {
   "cell_type": "code",
   "execution_count": 7,
   "metadata": {},
   "outputs": [
    {
     "name": "stdout",
     "output_type": "stream",
     "text": [
      "New Threat: Unexpected_Occupancy_98903ea9-9529-476a-a1c8-cb2c57f8fb7a ThreatLevel: TL-High\n"
     ]
    }
   ],
   "source": [
    "report_event(occupancy_light_event)"
   ]
  },
  {
   "cell_type": "code",
   "execution_count": 8,
   "metadata": {},
   "outputs": [],
   "source": [
    "occupancy_camera_event_mitigated={\n",
    "    \"guid\": \"b6c5e720-59f5-4f67-8a29-4728d0d09bf7\", # allows distinguishing simultaneous events\n",
    "    \"timestamp\":\"2018-07-03T21:23:52.581662+00:00\", # ISO in UTC, but could be Unix, not unique\n",
    "    \"event\":{ \n",
    "\t# Not every event contains non-NULL values for each of these\n",
    "\t# but the items *should* be filled with NULL for simplicity of parsing\n",
    "\t\"EventID\":\"826a3c5b-055c-41cb-9e88-94fa8f1df853\",  # globally unique id\n",
    "\t\"EventTimestamp\":\"2018-07-03T21:23:52.181662+00:00\", #in the case the event time != report timestamp, not unique\n",
    "\t\"EventType\":\"Threat\", # conveys criticality or broad class of the event\n",
    "\t\"EventStatus\":\"Mitigated:82b69dc9-cdbb-4637-ac7a-2141b4fee214\", #Active / Mitigated\n",
    "\t\"EventName\":\"Unexpected_Occupancy\", # a type name, i.e., identifies the action, human readable\n",
    "\t\"EventMessage\":\"Unexpected_Occupancy:Environment:Compromised\" # for future use, not generated yet (description of event)\n",
    "    },\n",
    "\n",
    "    \"device\":\n",
    "    {\n",
    "\t\"DeviceID\":\"e672ea83-2fb9-4f92-8cc8-d14f068b7d93\", # globally unique, typically hash\n",
    "\t\"DeviceName\":\"Camera\", # conveys identification to user/admin, human readable\n",
    "\t\"DeviceLocation\":\"BLD4-F16-M201-2\", # human readable description of abstract location\n",
    "\t\"DeviceTypeName\":\"AV\", # Samsung Galaxy 204, iPhone XXVI, etc.\n",
    "\t\"DeviceGroup\":[\"Secure_Smart_Conference_Room_V1\"], # list of administrative groups from UEM or other manager\n",
    "\n",
    "\t\"DeviceAttributes\":{ # colour commentary\n",
    "\t    \"attributes1\":\"\",\n",
    "\t    \"attributes2\":\"\",\n",
    "\t},\n",
    "\n",
    "\t# status of the individual modules as a list of pairs of values\n",
    "\t#INCLUDES the tagging or other information about attack and its impact on the data\n",
    "\t\"Status\": {\"wifi\":\"Connected\", \"Brightness\": \"80\", \"connection_strength\": 12.013}\n",
    "    }}"
   ]
  },
  {
   "cell_type": "code",
   "execution_count": 9,
   "metadata": {},
   "outputs": [
    {
     "name": "stdout",
     "output_type": "stream",
     "text": [
      "Threat Removed: Unexpected_Occupancy_82b69dc9-cdbb-4637-ac7a-2141b4fee214\n"
     ]
    }
   ],
   "source": [
    "report_event(occupancy_camera_event_mitigated)"
   ]
  },
  {
   "cell_type": "code",
   "execution_count": 10,
   "metadata": {},
   "outputs": [],
   "source": [
    "occupancy_light_event_mitigated={\n",
    "    \"guid\": \"e8947097-b6da-4456-810b-8eacafa33ae5\", # allows distinguishing simultaneous events\n",
    "    \"timestamp\":\"2018-07-03T21:23:53.581662+00:00\", # ISO in UTC, but could be Unix, not unique\n",
    "    \"event\":{ \n",
    "\t# Not every event contains non-NULL values for each of these\n",
    "\t# but the items *should* be filled with NULL for simplicity of parsing\n",
    "\t\"EventID\":\"5c98b604-8f18-45f5-966c-708c7ff65cf2\",  # globally unique id\n",
    "\t\"EventTimestamp\":\"2018-07-03T21:23:52.581662+00:00\", #in the case the event time != report timestamp, not unique\n",
    "\t\"EventType\":\"Threat\", # conveys criticality or broad class of the event\n",
    "\t\"EventStatus\":\"Mitigated:98903ea9-9529-476a-a1c8-cb2c57f8fb7a\", #Active / Mitigated\n",
    "\t\"EventName\":\"Unexpected_Occupancy\", # a type name, i.e., identifies the action, human readable\n",
    "\t\"EventMessage\":\"Unexpected_Occupancy:Environment:Compromised\" # for future use, not generated yet (description of event)\n",
    "    },\n",
    "\n",
    "    \"device\":\n",
    "    {\n",
    "\t\"DeviceID\":\"e672ea83-2fb9-4f92-8cc8-d14f068b7d93\", # globally unique, typically hash\n",
    "\t\"DeviceName\":\"Camera\", # conveys identification to user/admin, human readable\n",
    "\t\"DeviceLocation\":\"BLD4-F16-M201-2\", # human readable description of abstract location\n",
    "\t\"DeviceTypeName\":\"AV\", # Samsung Galaxy 204, iPhone XXVI, etc.\n",
    "\t\"DeviceGroup\":[\"Secure_Smart_Conference_Room_V1\"], # list of administrative groups from UEM or other manager\n",
    "\n",
    "\t\"DeviceAttributes\":{ # colour commentary\n",
    "\t    \"attributes1\":\"\",\n",
    "\t    \"attributes2\":\"\",\n",
    "\t},\n",
    "\n",
    "\t# status of the individual modules as a list of pairs of values\n",
    "\t#INCLUDES the tagging or other information about attack and its impact on the data\n",
    "\t\"Status\": {\"wifi\":\"Connected\", \"Brightness\": \"80\", \"connection_strength\": 12.013}\n",
    "    }}"
   ]
  },
  {
   "cell_type": "code",
   "execution_count": 11,
   "metadata": {},
   "outputs": [
    {
     "name": "stdout",
     "output_type": "stream",
     "text": [
      "Threat Removed: Unexpected_Occupancy_98903ea9-9529-476a-a1c8-cb2c57f8fb7a\n"
     ]
    }
   ],
   "source": [
    "report_event(occupancy_light_event_mitigated)"
   ]
  },
  {
   "cell_type": "code",
   "execution_count": 12,
   "metadata": {},
   "outputs": [],
   "source": [
    "irisauth_alice={\n",
    "    \"guid\": \"5a5437eb-4d2a-4409-abbf-760737547747\", # allows distinguishing simultaneous events\n",
    "    \"timestamp\":\"2018-07-03T22:23:53.581662+00:00\", # ISO in UTC, but could be Unix, not unique\n",
    "    \"event\":{ \n",
    "\t# Not every event contains non-NULL values for each of these\n",
    "\t# but the items *should* be filled with NULL for simplicity of parsing\n",
    "\t\"EventID\":\"386388f3-481d-4d90-9b9d-eb6ae62cbdc6\",  # globally unique id\n",
    "\t\"EventTimestamp\":\"2018-07-03T21:23:22.481662+00:00\", #in the case the event time != report timestamp, not unique\n",
    "\t\"EventType\":\"Authentication\", # conveys criticality or broad class of the event\n",
    "\t\"EventStatus\":\"Success\", #Success/Fail\n",
    "\t\"EventName\":\"Iris_Authentication\", # a type name, i.e., identifies the action, human readable\n",
    "\t\"EventMessage\":\"\" # for future use, not generated yet (description of event)\n",
    "    },\n",
    "\n",
    "    \"device\":\n",
    "    {\n",
    "\t\"DeviceID\":\"63da70b3-06d8-4689-9d94-3aea15938ea1\", # globally unique, typically hash\n",
    "\t\"DeviceName\":\"SmartDoorLock\", # conveys identification to user/admin, human readable\n",
    "\t\"DeviceLocation\":\"BLD4-F16-M201-2\", # human readable description of abstract location\n",
    "\t\"DeviceTypeName\":\"Lock\", \n",
    "\t\"DeviceGroup\":[\"Secure_Smart_Conference_Room_V1\"], # list of administrative groups from UEM or other manager\n",
    "\n",
    "\t\"DeviceAttributes\":{ # colour commentary\n",
    "\t    \"attributes1\":\"\",\n",
    "\t    \"attributes2\":\"\",\n",
    "\t},\n",
    "\n",
    "\t# status of the individual modules as a list of pairs of values\n",
    "\t#INCLUDES the tagging or other information about attack and its impact on the data\n",
    "\t\"Status\": {\"wifi\":\"Connected\",  \"connection_strength\": 10.999\n",
    "    }\n",
    "    },\n",
    "    \"User\":{\"UserName\":\"Alice\",\n",
    "            \"UID\":\"10001\"\n",
    "           }\n",
    "}"
   ]
  },
  {
   "cell_type": "code",
   "execution_count": 13,
   "metadata": {},
   "outputs": [
    {
     "name": "stdout",
     "output_type": "stream",
     "text": [
      "sl_update: Alice:SL-0->SL-4\n"
     ]
    }
   ],
   "source": [
    "report_event(irisauth_alice)"
   ]
  },
  {
   "cell_type": "code",
   "execution_count": 14,
   "metadata": {},
   "outputs": [],
   "source": [
    "request_open_door_alice={\n",
    "    \"guid\": \"463f652c-7eac-455d-847c-3017a3ac4e48\", # allows distinguishing simultaneous events\n",
    "    \"timestamp\":\"2018-07-03T22:23:53.581662+00:00\", # ISO in UTC, but could be Unix, not unique\n",
    "    \"event\":{ \n",
    "\t# Not every event contains non-NULL values for each of these\n",
    "\t# but the items *should* be filled with NULL for simplicity of parsing\n",
    "\t\"EventID\":\"386388f3-481d-4d90-9b9d-eb6ae62cbdc6\",  # globally unique id\n",
    "\t\"EventTimestamp\":\"2018-07-03T21:23:22.481662+00:00\", #in the case the event time != report timestamp, not unique\n",
    "\t\"EventType\":\"Request\", # conveys criticality or broad class of the event\n",
    "\t\"EventStatus\":\"Request\", #Request/ Disable\n",
    "\t\"EventName\":\"OpenDoor\", # a type name, i.e., identifies the action, human readable\n",
    "\t\"EventMessage\":\"Request:OpenDoor\" # for future use, not generated yet (description of event)\n",
    "    },\n",
    "\n",
    "    \"device\":\n",
    "    {\n",
    "\t\"DeviceID\":\"63da70b3-06d8-4689-9d94-3aea15938ea1\", # globally unique, typically hash\n",
    "\t\"DeviceName\":\"SmartDoorLock\", # conveys identification to user/admin, human readable\n",
    "\t\"DeviceLocation\":\"BLD4-F16-M201-2\", # human readable description of abstract location\n",
    "\t\"DeviceTypeName\":\"Lock\", \n",
    "\t\"DeviceGroup\":[\"Secure_Smart_Conference_Room_V1\"], # list of administrative groups from UEM or other manager\n",
    "\n",
    "\t\"DeviceAttributes\":{ # colour commentary\n",
    "\t    \"attributes1\":\"\",\n",
    "\t    \"attributes2\":\"\",\n",
    "\t},\n",
    "\n",
    "\t# status of the individual modules as a list of pairs of values\n",
    "\t#INCLUDES the tagging or other information about attack and its impact on the data\n",
    "\t\"Status\": {\"wifi\":\"Connected\",  \"connection_strength\": 10.999}\n",
    "    },\n",
    "    \"User\":{\"UserName\":\"Alice\",\n",
    "            \"UID\":\"10001\"\n",
    "           }\n",
    "}"
   ]
  },
  {
   "cell_type": "code",
   "execution_count": 15,
   "metadata": {},
   "outputs": [
    {
     "name": "stdout",
     "output_type": "stream",
     "text": [
      "Request Approved: OpenDoor\n"
     ]
    }
   ],
   "source": [
    "report_event(request_open_door_alice)"
   ]
  },
  {
   "cell_type": "code",
   "execution_count": 16,
   "metadata": {},
   "outputs": [],
   "source": [
    "faceauth_bob={\n",
    "    \"guid\": \"5a5437eb-4d2a-4409-abbf-760737547747\", # allows distinguishing simultaneous events\n",
    "    \"timestamp\":\"2018-07-03T22:23:53.581662+00:00\", # ISO in UTC, but could be Unix, not unique\n",
    "    \"event\":{ \n",
    "\t# Not every event contains non-NULL values for each of these\n",
    "\t# but the items *should* be filled with NULL for simplicity of parsing\n",
    "\t\"EventID\":\"386388f3-481d-4d90-9b9d-eb6ae62cbdc6\",  # globally unique id\n",
    "\t\"EventTimestamp\":\"2018-07-03T21:23:22.481662+00:00\", #in the case the event time != report timestamp, not unique\n",
    "\t\"EventType\":\"Authentication\", # conveys criticality or broad class of the event\n",
    "\t\"EventStatus\":\"Success\", #Success/Fail\n",
    "\t\"EventName\":\"Face_Authentication\", # a type name, i.e., identifies the action, human readable\n",
    "\t\"EventMessage\":\"\" # for future use, not generated yet (description of event)\n",
    "    },\n",
    "\n",
    "    \"device\":\n",
    "    {\n",
    "\t\"DeviceID\":\"63da70b3-06d8-4689-9d94-3aea15938ea1\", # globally unique, typically hash\n",
    "\t\"DeviceName\":\"SmartDoorLock\", # conveys identification to user/admin, human readable\n",
    "\t\"DeviceLocation\":\"BLD4-F16-M201-2\", # human readable description of abstract location\n",
    "\t\"DeviceTypeName\":\"Lock\", \n",
    "\t\"DeviceGroup\":[\"Secure_Smart_Conference_Room_V1\"], # list of administrative groups from UEM or other manager\n",
    "\n",
    "\t\"DeviceAttributes\":{ # colour commentary\n",
    "\t    \"attributes1\":\"\",\n",
    "\t    \"attributes2\":\"\",\n",
    "\t},\n",
    "\n",
    "\t# status of the individual modules as a list of pairs of values\n",
    "\t#INCLUDES the tagging or other information about attack and its impact on the data\n",
    "\t\"Status\": {\"wifi\":\"Connected\",  \"connection_strength\": 10.999\n",
    "    }\n",
    "    },\n",
    "    \"User\":{\"UserName\":\"Bob\",\n",
    "            \"UID\":\"10002\"\n",
    "           }\n",
    "}"
   ]
  },
  {
   "cell_type": "code",
   "execution_count": 17,
   "metadata": {},
   "outputs": [
    {
     "name": "stdout",
     "output_type": "stream",
     "text": [
      "sl_update: Bob:SL-0->SL-3\n"
     ]
    }
   ],
   "source": [
    "report_event(faceauth_bob)"
   ]
  },
  {
   "cell_type": "code",
   "execution_count": 18,
   "metadata": {},
   "outputs": [],
   "source": [
    "faceauth_bob={\n",
    "    \"guid\": \"5a5437eb-4d2a-4409-abbf-760737547747\", # allows distinguishing simultaneous events\n",
    "    \"timestamp\":\"2018-07-03T22:23:53.581662+00:00\", # ISO in UTC, but could be Unix, not unique\n",
    "    \"event\":{ \n",
    "\t# Not every event contains non-NULL values for each of these\n",
    "\t# but the items *should* be filled with NULL for simplicity of parsing\n",
    "\t\"EventID\":\"386388f3-481d-4d90-9b9d-eb6ae62cbdc6\",  # globally unique id\n",
    "\t\"EventTimestamp\":\"2018-07-03T21:23:22.481662+00:00\", #in the case the event time != report timestamp, not unique\n",
    "\t\"EventType\":\"Authentication\", # conveys criticality or broad class of the event\n",
    "\t\"EventStatus\":\"Success\", #Success/Fail\n",
    "\t\"EventName\":\"Face_Authentication\", # a type name, i.e., identifies the action, human readable\n",
    "\t\"EventMessage\":\"\" # for future use, not generated yet (description of event)\n",
    "    },\n",
    "\n",
    "    \"device\":\n",
    "    {\n",
    "\t\"DeviceID\":\"63da70b3-06d8-4689-9d94-3aea15938ea1\", # globally unique, typically hash\n",
    "\t\"DeviceName\":\"SmartDoorLock\", # conveys identification to user/admin, human readable\n",
    "\t\"DeviceLocation\":\"BLD4-F16-M201-2\", # human readable description of abstract location\n",
    "\t\"DeviceTypeName\":\"Lock\", \n",
    "\t\"DeviceGroup\":[\"Secure_Smart_Conference_Room_V1\"], # list of administrative groups from UEM or other manager\n",
    "\n",
    "\t\"DeviceAttributes\":{ # colour commentary\n",
    "\t    \"attributes1\":\"\",\n",
    "\t    \"attributes2\":\"\",\n",
    "\t},\n",
    "\n",
    "\t# status of the individual modules as a list of pairs of values\n",
    "\t#INCLUDES the tagging or other information about attack and its impact on the data\n",
    "\t\"Status\": {\"wifi\":\"Connected\",  \"connection_strength\": 10.999\n",
    "    }\n",
    "    },\n",
    "    \"User\":{\"UserName\":\"Bob\",\n",
    "            \"UID\":\"10002\"\n",
    "           }\n",
    "}"
   ]
  },
  {
   "cell_type": "code",
   "execution_count": 19,
   "metadata": {},
   "outputs": [
    {
     "name": "stdout",
     "output_type": "stream",
     "text": [
      "Repeated Authentication: Current sl: SL-3\n"
     ]
    }
   ],
   "source": [
    "report_event(faceauth_bob)"
   ]
  },
  {
   "cell_type": "code",
   "execution_count": 20,
   "metadata": {},
   "outputs": [],
   "source": [
    "request_open_door_bob={\n",
    "    \"guid\": \"463f652c-7eac-455d-847c-3017a3ac4e48\", # allows distinguishing simultaneous events\n",
    "    \"timestamp\":\"2018-07-03T22:23:53.581662+00:00\", # ISO in UTC, but could be Unix, not unique\n",
    "    \"event\":{ \n",
    "\t# Not every event contains non-NULL values for each of these\n",
    "\t# but the items *should* be filled with NULL for simplicity of parsing\n",
    "\t\"EventID\":\"386388f3-481d-4d90-9b9d-eb6ae62cbdc6\",  # globally unique id\n",
    "\t\"EventTimestamp\":\"2018-07-03T21:23:22.481662+00:00\", #in the case the event time != report timestamp, not unique\n",
    "\t\"EventType\":\"Request\", # conveys criticality or broad class of the event\n",
    "\t\"EventStatus\":\"Request\", #Request/ Disable\n",
    "\t\"EventName\":\"OpenDoor\", # a type name, i.e., identifies the action, human readable\n",
    "\t\"EventMessage\":\"Request:OpenDoor\" # for future use, not generated yet (description of event)\n",
    "    },\n",
    "\n",
    "    \"device\":\n",
    "    {\n",
    "\t\"DeviceID\":\"63da70b3-06d8-4689-9d94-3aea15938ea1\", # globally unique, typically hash\n",
    "\t\"DeviceName\":\"SmartDoorLock\", # conveys identification to user/admin, human readable\n",
    "\t\"DeviceLocation\":\"BLD4-F16-M201-2\", # human readable description of abstract location\n",
    "\t\"DeviceTypeName\":\"Lock\", \n",
    "\t\"DeviceGroup\":[\"Secure_Smart_Conference_Room_V1\"], # list of administrative groups from UEM or other manager\n",
    "\n",
    "\t\"DeviceAttributes\":{ # colour commentary\n",
    "\t    \"attributes1\":\"\",\n",
    "\t    \"attributes2\":\"\",\n",
    "\t},\n",
    "\n",
    "\t# status of the individual modules as a list of pairs of values\n",
    "\t#INCLUDES the tagging or other information about attack and its impact on the data\n",
    "\t\"Status\": {\"wifi\":\"Connected\",  \"connection_strength\": 10.999}\n",
    "    },\n",
    "    \"User\":{\"UserName\":\"Bob\",\n",
    "            \"UID\":\"10002\"\n",
    "           }\n",
    "}"
   ]
  },
  {
   "cell_type": "code",
   "execution_count": 21,
   "metadata": {},
   "outputs": [
    {
     "name": "stdout",
     "output_type": "stream",
     "text": [
      "Request Denied: Low SL current_sl:SL-4 user_sl:SL-3 required_sl:SL-4\n",
      "SL-1 authentication is required.\n",
      "Please use SmartDoorLock to perform NFC_Authentication\n"
     ]
    }
   ],
   "source": [
    "report_event(request_open_door_bob)"
   ]
  },
  {
   "cell_type": "code",
   "execution_count": 22,
   "metadata": {},
   "outputs": [],
   "source": [
    "nfcauth_bob={\n",
    "    \"guid\": \"5a5437eb-4d2a-4409-abbf-760737547747\", # allows distinguishing simultaneous events\n",
    "    \"timestamp\":\"2018-07-03T22:23:53.581662+00:00\", # ISO in UTC, but could be Unix, not unique\n",
    "    \"event\":{ \n",
    "\t# Not every event contains non-NULL values for each of these\n",
    "\t# but the items *should* be filled with NULL for simplicity of parsing\n",
    "\t\"EventID\":\"386388f3-481d-4d90-9b9d-eb6ae62cbdc6\",  # globally unique id\n",
    "\t\"EventTimestamp\":\"2018-07-03T21:23:22.481662+00:00\", #in the case the event time != report timestamp, not unique\n",
    "\t\"EventType\":\"Authentication\", # conveys criticality or broad class of the event\n",
    "\t\"EventStatus\":\"Success\", #Success/Fail\n",
    "\t\"EventName\":\"NFC_Authentication\", # a type name, i.e., identifies the action, human readable\n",
    "\t\"EventMessage\":\"\" # for future use, not generated yet (description of event)\n",
    "    },\n",
    "\n",
    "    \"device\":\n",
    "    {\n",
    "\t\"DeviceID\":\"63da70b3-06d8-4689-9d94-3aea15938ea1\", # globally unique, typically hash\n",
    "\t\"DeviceName\":\"SmartDoorLock\", # conveys identification to user/admin, human readable\n",
    "\t\"DeviceLocation\":\"BLD4-F16-M201-2\", # human readable description of abstract location\n",
    "\t\"DeviceTypeName\":\"Lock\", \n",
    "\t\"DeviceGroup\":[\"Secure_Smart_Conference_Room_V1\"], # list of administrative groups from UEM or other manager\n",
    "\n",
    "\t\"DeviceAttributes\":{ # colour commentary\n",
    "\t    \"attributes1\":\"\",\n",
    "\t    \"attributes2\":\"\",\n",
    "\t},\n",
    "\n",
    "\t# status of the individual modules as a list of pairs of values\n",
    "\t#INCLUDES the tagging or other information about attack and its impact on the data\n",
    "\t\"Status\": {\"wifi\":\"Connected\",  \"connection_strength\": 10.999\n",
    "    }\n",
    "    },\n",
    "    \"User\":{\"UserName\":\"Bob\",\n",
    "            \"UID\":\"10002\"\n",
    "           }\n",
    "}"
   ]
  },
  {
   "cell_type": "code",
   "execution_count": 23,
   "metadata": {},
   "outputs": [
    {
     "name": "stdout",
     "output_type": "stream",
     "text": [
      "sl_update: Bob:SL-3->SL-4\n"
     ]
    }
   ],
   "source": [
    "report_event(nfcauth_bob)"
   ]
  },
  {
   "cell_type": "code",
   "execution_count": 24,
   "metadata": {},
   "outputs": [
    {
     "name": "stdout",
     "output_type": "stream",
     "text": [
      "Request Approved: OpenDoor\n"
     ]
    }
   ],
   "source": [
    "report_event(request_open_door_bob)"
   ]
  },
  {
   "cell_type": "code",
   "execution_count": 25,
   "metadata": {},
   "outputs": [],
   "source": [
    "passauth_carol={\n",
    "    \"guid\": \"5a5437eb-4d2a-4409-abbf-760737547747\", # allows distinguishing simultaneous events\n",
    "    \"timestamp\":\"2018-07-03T22:23:53.581662+00:00\", # ISO in UTC, but could be Unix, not unique\n",
    "    \"event\":{ \n",
    "\t# Not every event contains non-NULL values for each of these\n",
    "\t# but the items *should* be filled with NULL for simplicity of parsing\n",
    "\t\"EventID\":\"386388f3-481d-4d90-9b9d-eb6ae62cbdc6\",  # globally unique id\n",
    "\t\"EventTimestamp\":\"2018-07-03T21:23:22.481662+00:00\", #in the case the event time != report timestamp, not unique\n",
    "\t\"EventType\":\"Authentication\", # conveys criticality or broad class of the event\n",
    "\t\"EventStatus\":\"Success\", #Success/Fail\n",
    "\t\"EventName\":\"Password_Authentication\", # a type name, i.e., identifies the action, human readable\n",
    "\t\"EventMessage\":\"\" # for future use, not generated yet (description of event)\n",
    "    },\n",
    "\n",
    "    \"device\":\n",
    "    {\n",
    "\t\"DeviceID\":\"63da70b3-06d8-4689-9d94-3aea15938ea1\", # globally unique, typically hash\n",
    "\t\"DeviceName\":\"SmartDoorLock\", # conveys identification to user/admin, human readable\n",
    "\t\"DeviceLocation\":\"BLD4-F16-M201-2\", # human readable description of abstract location\n",
    "\t\"DeviceTypeName\":\"Lock\", \n",
    "\t\"DeviceGroup\":[\"Secure_Smart_Conference_Room_V1\"], # list of administrative groups from UEM or other manager\n",
    "\n",
    "\t\"DeviceAttributes\":{ # colour commentary\n",
    "\t    \"attributes1\":\"\",\n",
    "\t    \"attributes2\":\"\",\n",
    "\t},\n",
    "\n",
    "\t# status of the individual modules as a list of pairs of values\n",
    "\t#INCLUDES the tagging or other information about attack and its impact on the data\n",
    "\t\"Status\": {\"wifi\":\"Connected\",  \"connection_strength\": 10.999\n",
    "    }\n",
    "    },\n",
    "    \"User\":{\"UserName\":\"Carol\",\n",
    "            \"UID\":\"10003\"\n",
    "           }\n",
    "}"
   ]
  },
  {
   "cell_type": "code",
   "execution_count": 26,
   "metadata": {},
   "outputs": [
    {
     "name": "stdout",
     "output_type": "stream",
     "text": [
      "sl_update: Carol:SL-0->SL-1\n"
     ]
    }
   ],
   "source": [
    "report_event(passauth_carol)"
   ]
  },
  {
   "cell_type": "code",
   "execution_count": 27,
   "metadata": {},
   "outputs": [],
   "source": [
    "request_open_door_carol={\n",
    "    \"guid\": \"463f652c-7eac-455d-847c-3017a3ac4e48\", # allows distinguishing simultaneous events\n",
    "    \"timestamp\":\"2018-07-03T22:23:53.581662+00:00\", # ISO in UTC, but could be Unix, not unique\n",
    "    \"event\":{ \n",
    "\t# Not every event contains non-NULL values for each of these\n",
    "\t# but the items *should* be filled with NULL for simplicity of parsing\n",
    "\t\"EventID\":\"386388f3-481d-4d90-9b9d-eb6ae62cbdc6\",  # globally unique id\n",
    "\t\"EventTimestamp\":\"2018-07-03T21:23:22.481662+00:00\", #in the case the event time != report timestamp, not unique\n",
    "\t\"EventType\":\"Request\", # conveys criticality or broad class of the event\n",
    "\t\"EventStatus\":\"Request\", #Request/ Disable\n",
    "\t\"EventName\":\"OpenDoor\", # a type name, i.e., identifies the action, human readable\n",
    "\t\"EventMessage\":\"Request:OpenDoor\" # for future use, not generated yet (description of event)\n",
    "    },\n",
    "\n",
    "    \"device\":\n",
    "    {\n",
    "\t\"DeviceID\":\"63da70b3-06d8-4689-9d94-3aea15938ea1\", # globally unique, typically hash\n",
    "\t\"DeviceName\":\"SmartDoorLock\", # conveys identification to user/admin, human readable\n",
    "\t\"DeviceLocation\":\"BLD4-F16-M201-2\", # human readable description of abstract location\n",
    "\t\"DeviceTypeName\":\"Lock\", \n",
    "\t\"DeviceGroup\":[\"Secure_Smart_Conference_Room_V1\"], # list of administrative groups from UEM or other manager\n",
    "\n",
    "\t\"DeviceAttributes\":{ # colour commentary\n",
    "\t    \"attributes1\":\"\",\n",
    "\t    \"attributes2\":\"\",\n",
    "\t},\n",
    "\n",
    "\t# status of the individual modules as a list of pairs of values\n",
    "\t#INCLUDES the tagging or other information about attack and its impact on the data\n",
    "\t\"Status\": {\"wifi\":\"Connected\",  \"connection_strength\": 10.999}\n",
    "    },\n",
    "    \"User\":{\"UserName\":\"Carol\",\n",
    "            \"UID\":\"10003\"\n",
    "           }\n",
    "}"
   ]
  },
  {
   "cell_type": "code",
   "execution_count": 28,
   "metadata": {},
   "outputs": [
    {
     "name": "stdout",
     "output_type": "stream",
     "text": [
      "Request Denied: Low SL current_sl:SL-4 user_sl:SL-1 required_sl:SL-4\n",
      "SL-3 authentication is required.\n",
      "Please use SmartDoorLock to perform Face_Authentication\n"
     ]
    }
   ],
   "source": [
    "report_event(request_open_door_carol)"
   ]
  },
  {
   "cell_type": "code",
   "execution_count": 29,
   "metadata": {},
   "outputs": [],
   "source": [
    "faceauth_carol={\n",
    "    \"guid\": \"5a5437eb-4d2a-4409-abbf-760737547747\", # allows distinguishing simultaneous events\n",
    "    \"timestamp\":\"2018-07-03T22:23:53.581662+00:00\", # ISO in UTC, but could be Unix, not unique\n",
    "    \"event\":{ \n",
    "\t# Not every event contains non-NULL values for each of these\n",
    "\t# but the items *should* be filled with NULL for simplicity of parsing\n",
    "\t\"EventID\":\"386388f3-481d-4d90-9b9d-eb6ae62cbdc6\",  # globally unique id\n",
    "\t\"EventTimestamp\":\"2018-07-03T21:23:22.481662+00:00\", #in the case the event time != report timestamp, not unique\n",
    "\t\"EventType\":\"Authentication\", # conveys criticality or broad class of the event\n",
    "\t\"EventStatus\":\"Success\", #Success/Fail\n",
    "\t\"EventName\":\"Face_Authentication\", # a type name, i.e., identifies the action, human readable\n",
    "\t\"EventMessage\":\"\" # for future use, not generated yet (description of event)\n",
    "    },\n",
    "\n",
    "    \"device\":\n",
    "    {\n",
    "\t\"DeviceID\":\"63da70b3-06d8-4689-9d94-3aea15938ea1\", # globally unique, typically hash\n",
    "\t\"DeviceName\":\"SmartDoorLock\", # conveys identification to user/admin, human readable\n",
    "\t\"DeviceLocation\":\"BLD4-F16-M201-2\", # human readable description of abstract location\n",
    "\t\"DeviceTypeName\":\"Lock\", \n",
    "\t\"DeviceGroup\":[\"Secure_Smart_Conference_Room_V1\"], # list of administrative groups from UEM or other manager\n",
    "\n",
    "\t\"DeviceAttributes\":{ # colour commentary\n",
    "\t    \"attributes1\":\"\",\n",
    "\t    \"attributes2\":\"\",\n",
    "\t},\n",
    "\n",
    "\t# status of the individual modules as a list of pairs of values\n",
    "\t#INCLUDES the tagging or other information about attack and its impact on the data\n",
    "\t\"Status\": {\"wifi\":\"Connected\",  \"connection_strength\": 10.999\n",
    "    }\n",
    "    },\n",
    "    \"User\":{\"UserName\":\"Carol\",\n",
    "            \"UID\":\"10003\"\n",
    "           }\n",
    "}"
   ]
  },
  {
   "cell_type": "code",
   "execution_count": 30,
   "metadata": {},
   "outputs": [
    {
     "name": "stdout",
     "output_type": "stream",
     "text": [
      "sl_update: Carol:SL-1->SL-4\n"
     ]
    }
   ],
   "source": [
    "report_event(faceauth_carol)"
   ]
  },
  {
   "cell_type": "code",
   "execution_count": 31,
   "metadata": {},
   "outputs": [
    {
     "name": "stdout",
     "output_type": "stream",
     "text": [
      "Request Approved: OpenDoor\n"
     ]
    }
   ],
   "source": [
    "report_event(request_open_door_carol)"
   ]
  },
  {
   "cell_type": "code",
   "execution_count": null,
   "metadata": {},
   "outputs": [],
   "source": [
    "NFCauth_carol={\n",
    "    \"guid\": \"5a5437eb-4d2a-4409-abbf-760737547747\", # allows distinguishing simultaneous events\n",
    "    \"timestamp\":\"2018-07-03T22:23:53.581662+00:00\", # ISO in UTC, but could be Unix, not unique\n",
    "    \"event\":{ \n",
    "\t# Not every event contains non-NULL values for each of these\n",
    "\t# but the items *should* be filled with NULL for simplicity of parsing\n",
    "\t\"EventID\":\"386388f3-481d-4d90-9b9d-eb6ae62cbdc6\",  # globally unique id\n",
    "\t\"EventTimestamp\":\"2018-07-03T21:23:22.481662+00:00\", #in the case the event time != report timestamp, not unique\n",
    "\t\"EventType\":\"Authentication\", # conveys criticality or broad class of the event\n",
    "\t\"EventStatus\":\"Success\", #Success/Fail\n",
    "\t\"EventName\":\"NFC_Authentication\", # a type name, i.e., identifies the action, human readable\n",
    "\t\"EventMessage\":\"\" # for future use, not generated yet (description of event)\n",
    "    },\n",
    "\n",
    "    \"device\":\n",
    "    {\n",
    "\t\"DeviceID\":\"63da70b3-06d8-4689-9d94-3aea15938ea1\", # globally unique, typically hash\n",
    "\t\"DeviceName\":\"SmartDoorLock\", # conveys identification to user/admin, human readable\n",
    "\t\"DeviceLocation\":\"BLD4-F16-M201-2\", # human readable description of abstract location\n",
    "\t\"DeviceTypeName\":\"Lock\", \n",
    "\t\"DeviceGroup\":[\"Secure_Smart_Conference_Room_V1\"], # list of administrative groups from UEM or other manager\n",
    "\n",
    "\t\"DeviceAttributes\":{ # colour commentary\n",
    "\t    \"attributes1\":\"\",\n",
    "\t    \"attributes2\":\"\",\n",
    "\t},\n",
    "\n",
    "\t# status of the individual modules as a list of pairs of values\n",
    "\t#INCLUDES the tagging or other information about attack and its impact on the data\n",
    "\t\"Status\": {\"wifi\":\"Connected\",  \"connection_strength\": 10.999\n",
    "    }\n",
    "    },\n",
    "    \"User\":{\"UserName\":\"Carol\",\n",
    "            \"UID\":\"10003\"\n",
    "           }\n",
    "}"
   ]
  },
  {
   "cell_type": "code",
   "execution_count": null,
   "metadata": {},
   "outputs": [],
   "source": [
    "report_event(NFCauth_carol)"
   ]
  },
  {
   "cell_type": "code",
   "execution_count": null,
   "metadata": {},
   "outputs": [],
   "source": [
    "report_event(request_open_door_carol)"
   ]
  },
  {
   "cell_type": "code",
   "execution_count": 32,
   "metadata": {},
   "outputs": [],
   "source": [
    "use_smart_speaker_to_record_meeting={\n",
    "    \"guid\": \"463f652c-7eac-455d-847c-3017a3ac4e48\", # allows distinguishing simultaneous events\n",
    "    \"timestamp\":\"2018-07-03T22:23:53.581662+00:00\", # ISO in UTC, but could be Unix, not unique\n",
    "    \"event\":{ \n",
    "\t# Not every event contains non-NULL values for each of these\n",
    "\t# but the items *should* be filled with NULL for simplicity of parsing\n",
    "\t\"EventID\":\"386388f3-481d-4d90-9b9d-eb6ae62cbdc6\",  # globally unique id\n",
    "\t\"EventTimestamp\":\"2018-07-03T21:23:22.481662+00:00\", #in the case the event time != report timestamp, not unique\n",
    "\t\"EventType\":\"Request\", # conveys criticality or broad class of the event\n",
    "\t\"EventStatus\":\"Request\", #Request/ Disable\n",
    "\t\"EventName\":\"Record\", # a type name, i.e., identifies the action, human readable\n",
    "\t\"EventMessage\":\"Request:Record\" # for future use, not generated yet (description of event)\n",
    "    },\n",
    "\n",
    "    \"device\":\n",
    "    {\n",
    "\t\"DeviceID\":\"63da70b3-06d8-4689-9d94-3aea15938ea1\", # globally unique, typically hash\n",
    "\t\"DeviceName\":\"SmartSpeaker\", # conveys identification to user/admin, human readable\n",
    "\t\"DeviceLocation\":\"BLD4-F16-M201-2\", # human readable description of abstract location\n",
    "\t\"DeviceTypeName\":\"AV\", \n",
    "\t\"DeviceGroup\":[\"Secure_Smart_Conference_Room_V1\"], # list of administrative groups from UEM or other manager\n",
    "\n",
    "\t\"DeviceAttributes\":{ # colour commentary\n",
    "\t    \"attributes1\":\"\",\n",
    "\t    \"attributes2\":\"\",\n",
    "\t},\n",
    "\n",
    "\t# status of the individual modules as a list of pairs of values\n",
    "\t#INCLUDES the tagging or other information about attack and its impact on the data\n",
    "\t\"Status\": {\"wifi\":\"Connected\",  \"connection_strength\": 10.999}\n",
    "    },\n",
    "    \"User\":{\"UserName\":\"Alice\",\n",
    "            \"UID\":\"10001\"\n",
    "           }\n",
    "}"
   ]
  },
  {
   "cell_type": "code",
   "execution_count": 33,
   "metadata": {},
   "outputs": [
    {
     "name": "stdout",
     "output_type": "stream",
     "text": [
      "Request Approved: Record\n",
      "Record is activated.\n"
     ]
    }
   ],
   "source": [
    "report_event(use_smart_speaker_to_record_meeting)"
   ]
  },
  {
   "cell_type": "code",
   "execution_count": 34,
   "metadata": {
    "scrolled": true
   },
   "outputs": [
    {
     "data": {
      "text/plain": [
       "[['ssso:Record']]"
      ]
     },
     "execution_count": 34,
     "metadata": {},
     "output_type": "execute_result"
    }
   ],
   "source": [
    "active_service=SmartConferenceRoom.query(PREFIX+\"\"\"select ?serv where{ ?serv ssso:is ssso:Active.}\"\"\")\n",
    "active_service"
   ]
  },
  {
   "cell_type": "code",
   "execution_count": 35,
   "metadata": {},
   "outputs": [],
   "source": [
    "use_smart_speaker_to_play_audio={\n",
    "    \"guid\": \"463f652c-7eac-455d-847c-3017a3ac4e48\", # allows distinguishing simultaneous events\n",
    "    \"timestamp\":\"2018-07-03T22:23:53.581662+00:00\", # ISO in UTC, but could be Unix, not unique\n",
    "    \"event\":{ \n",
    "\t# Not every event contains non-NULL values for each of these\n",
    "\t# but the items *should* be filled with NULL for simplicity of parsing\n",
    "\t\"EventID\":\"386388f3-481d-4d90-9b9d-eb6ae62cbdc6\",  # globally unique id\n",
    "\t\"EventTimestamp\":\"2018-07-03T21:23:22.481662+00:00\", #in the case the event time != report timestamp, not unique\n",
    "\t\"EventType\":\"Request\", # conveys criticality or broad class of the event\n",
    "\t\"EventStatus\":\"Request\", #Request/ Disable\n",
    "\t\"EventName\":\"PlayAudio\", # a type name, i.e., identifies the action, human readable\n",
    "\t\"EventMessage\":\"Request:PlayAudio\" # for future use, not generated yet (description of event)\n",
    "    },\n",
    "\n",
    "    \"device\":\n",
    "    {\n",
    "\t\"DeviceID\":\"63da70b3-06d8-4689-9d94-3aea15938ea1\", # globally unique, typically hash\n",
    "\t\"DeviceName\":\"SmartSpeaker\", # conveys identification to user/admin, human readable\n",
    "\t\"DeviceLocation\":\"BLD4-F16-M201-2\", # human readable description of abstract location\n",
    "\t\"DeviceTypeName\":\"AV\", \n",
    "\t\"DeviceGroup\":[\"Secure_Smart_Conference_Room_V1\"], # list of administrative groups from UEM or other manager\n",
    "\n",
    "\t\"DeviceAttributes\":{ # colour commentary\n",
    "\t    \"attributes1\":\"\",\n",
    "\t    \"attributes2\":\"\",\n",
    "\t},\n",
    "\n",
    "\t# status of the individual modules as a list of pairs of values\n",
    "\t#INCLUDES the tagging or other information about attack and its impact on the data\n",
    "\t\"Status\": {\"wifi\":\"Connected\",  \"connection_strength\": 10.999}\n",
    "    },\n",
    "    \"User\":{\"UserName\":\"Alice\",\n",
    "            \"UID\":\"10001\"\n",
    "           }\n",
    "}"
   ]
  },
  {
   "cell_type": "code",
   "execution_count": 36,
   "metadata": {},
   "outputs": [
    {
     "name": "stdout",
     "output_type": "stream",
     "text": [
      "Request Approved: PlayAudio\n",
      "PlayAudio is activated.\n"
     ]
    }
   ],
   "source": [
    "report_event(use_smart_speaker_to_play_audio)"
   ]
  },
  {
   "cell_type": "code",
   "execution_count": 37,
   "metadata": {},
   "outputs": [
    {
     "data": {
      "text/plain": [
       "[['ssso:PlayAudio'], ['ssso:Record']]"
      ]
     },
     "execution_count": 37,
     "metadata": {},
     "output_type": "execute_result"
    }
   ],
   "source": [
    "active_service=SmartConferenceRoom.query(PREFIX+\"\"\"select ?serv where{ ?serv ssso:is ssso:Active.}\"\"\")\n",
    "active_service"
   ]
  },
  {
   "cell_type": "code",
   "execution_count": 38,
   "metadata": {},
   "outputs": [],
   "source": [
    "use_camera_to_capture_video={\n",
    "    \"guid\": \"463f652c-7eac-455d-847c-3017a3ac4e48\", # allows distinguishing simultaneous events\n",
    "    \"timestamp\":\"2018-07-03T22:23:53.581662+00:00\", # ISO in UTC, but could be Unix, not unique\n",
    "    \"event\":{ \n",
    "\t# Not every event contains non-NULL values for each of these\n",
    "\t# but the items *should* be filled with NULL for simplicity of parsing\n",
    "\t\"EventID\":\"386388f3-481d-4d90-9b9d-eb6ae62cbdc6\",  # globally unique id\n",
    "\t\"EventTimestamp\":\"2018-07-03T21:23:22.481662+00:00\", #in the case the event time != report timestamp, not unique\n",
    "\t\"EventType\":\"Request\", # conveys criticality or broad class of the event\n",
    "\t\"EventStatus\":\"Request\", #Request/ Disable\n",
    "\t\"EventName\":\"CaptureVideo\", # a type name, i.e., identifies the action, human readable\n",
    "\t\"EventMessage\":\"Request:CaptureVideo\" # for future use, not generated yet (description of event)\n",
    "    },\n",
    "\n",
    "    \"device\":\n",
    "    {\n",
    "\t\"DeviceID\":\"63da70b3-06d8-4689-9d94-3aea15938ea1\", # globally unique, typically hash\n",
    "\t\"DeviceName\":\"Camera\", # conveys identification to user/admin, human readable\n",
    "\t\"DeviceLocation\":\"BLD4-F16-M201-2\", # human readable description of abstract location\n",
    "\t\"DeviceTypeName\":\"AV\", \n",
    "\t\"DeviceGroup\":[\"Secure_Smart_Conference_Room_V1\"], # list of administrative groups from UEM or other manager\n",
    "\n",
    "\t\"DeviceAttributes\":{ # colour commentary\n",
    "\t    \"attributes1\":\"\",\n",
    "\t    \"attributes2\":\"\",\n",
    "\t},\n",
    "\n",
    "\t# status of the individual modules as a list of pairs of values\n",
    "\t#INCLUDES the tagging or other information about attack and its impact on the data\n",
    "\t\"Status\": {\"wifi\":\"Connected\",  \"connection_strength\": 10.999}\n",
    "    },\n",
    "    \"User\":{\"UserName\":\"Alice\",\n",
    "            \"UID\":\"10001\"\n",
    "           }\n",
    "}"
   ]
  },
  {
   "cell_type": "code",
   "execution_count": 39,
   "metadata": {},
   "outputs": [
    {
     "name": "stdout",
     "output_type": "stream",
     "text": [
      "Request Approved: CaptureVideo\n",
      "CaptureVideo is activated.\n"
     ]
    }
   ],
   "source": [
    "report_event(use_camera_to_capture_video)"
   ]
  },
  {
   "cell_type": "code",
   "execution_count": 40,
   "metadata": {},
   "outputs": [
    {
     "data": {
      "text/plain": [
       "[['ssso:CaptureVideo'], ['ssso:PlayAudio'], ['ssso:Record']]"
      ]
     },
     "execution_count": 40,
     "metadata": {},
     "output_type": "execute_result"
    }
   ],
   "source": [
    "active_service=SmartConferenceRoom.query(PREFIX+\"\"\"select ?serv where{ ?serv ssso:is ssso:Active.}\"\"\")\n",
    "active_service"
   ]
  },
  {
   "cell_type": "code",
   "execution_count": 41,
   "metadata": {},
   "outputs": [],
   "source": [
    "use_projector_to_play_video={\n",
    "    \"guid\": \"463f652c-7eac-455d-847c-3017a3ac4e48\", # allows distinguishing simultaneous events\n",
    "    \"timestamp\":\"2018-07-03T22:23:53.581662+00:00\", # ISO in UTC, but could be Unix, not unique\n",
    "    \"event\":{ \n",
    "\t# Not every event contains non-NULL values for each of these\n",
    "\t# but the items *should* be filled with NULL for simplicity of parsing\n",
    "\t\"EventID\":\"386388f3-481d-4d90-9b9d-eb6ae62cbdc6\",  # globally unique id\n",
    "\t\"EventTimestamp\":\"2018-07-03T21:23:22.481662+00:00\", #in the case the event time != report timestamp, not unique\n",
    "\t\"EventType\":\"Request\", # conveys criticality or broad class of the event\n",
    "\t\"EventStatus\":\"Request\", #Request/ Disable\n",
    "\t\"EventName\":\"PlayVideo\", # a type name, i.e., identifies the action, human readable\n",
    "\t\"EventMessage\":\"Request:PlayVideo\" # for future use, not generated yet (description of event)\n",
    "    },\n",
    "\n",
    "    \"device\":\n",
    "    {\n",
    "\t\"DeviceID\":\"63da70b3-06d8-4689-9d94-3aea15938ea3\", # globally unique, typically hash\n",
    "\t\"DeviceName\":\"Projector\", # conveys identification to user/admin, human readable\n",
    "\t\"DeviceLocation\":\"BLD4-F16-M201-2\", # human readable description of abstract location\n",
    "\t\"DeviceTypeName\":\"AV\", \n",
    "\t\"DeviceGroup\":[\"Secure_Smart_Conference_Room_V1\"], # list of administrative groups from UEM or other manager\n",
    "\n",
    "\t\"DeviceAttributes\":{ # colour commentary\n",
    "\t    \"attributes1\":\"\",\n",
    "\t    \"attributes2\":\"\",\n",
    "\t},\n",
    "\n",
    "\t# status of the individual modules as a list of pairs of values\n",
    "\t#INCLUDES the tagging or other information about attack and its impact on the data\n",
    "\t\"Status\": {\"wifi\":\"Connected\",  \"connection_strength\": 10.999}\n",
    "    },\n",
    "    \"User\":{\"UserName\":\"Alice\",\n",
    "            \"UID\":\"10001\"\n",
    "           }\n",
    "}"
   ]
  },
  {
   "cell_type": "code",
   "execution_count": 42,
   "metadata": {},
   "outputs": [
    {
     "name": "stdout",
     "output_type": "stream",
     "text": [
      "Request Approved: PlayVideo\n",
      "PlayVideo is activated.\n"
     ]
    }
   ],
   "source": [
    "report_event(use_projector_to_play_video)"
   ]
  },
  {
   "cell_type": "code",
   "execution_count": 43,
   "metadata": {},
   "outputs": [
    {
     "data": {
      "text/plain": [
       "[['ssso:PlayVideo'],\n",
       " ['ssso:Record'],\n",
       " ['ssso:PlayAudio'],\n",
       " ['ssso:CaptureVideo']]"
      ]
     },
     "execution_count": 43,
     "metadata": {},
     "output_type": "execute_result"
    }
   ],
   "source": [
    "active_service=SmartConferenceRoom.query(PREFIX+\"\"\"select ?serv where{ ?serv ssso:is ssso:Active.}\"\"\")\n",
    "active_service"
   ]
  },
  {
   "cell_type": "code",
   "execution_count": 44,
   "metadata": {},
   "outputs": [],
   "source": [
    "use_fileserver_to_store_data={\n",
    "    \"guid\": \"463f652c-7eac-455d-847c-3017a3ac4e48\", # allows distinguishing simultaneous events\n",
    "    \"timestamp\":\"2018-07-03T22:23:53.581662+00:00\", # ISO in UTC, but could be Unix, not unique\n",
    "    \"event\":{ \n",
    "\t# Not every event contains non-NULL values for each of these\n",
    "\t# but the items *should* be filled with NULL for simplicity of parsing\n",
    "\t\"EventID\":\"386388f3-481d-4d90-9b9d-eb6ae62cbdc6\",  # globally unique id\n",
    "\t\"EventTimestamp\":\"2018-07-03T21:23:22.481662+00:00\", #in the case the event time != report timestamp, not unique\n",
    "\t\"EventType\":\"Request\", # conveys criticality or broad class of the event\n",
    "\t\"EventStatus\":\"Request\", #Request/ Disable\n",
    "\t\"EventName\":\"StoreData\", # a type name, i.e., identifies the action, human readable\n",
    "\t\"EventMessage\":\"Request:StoreData\" # for future use, not generated yet (description of event)\n",
    "    },\n",
    "\n",
    "    \"device\":\n",
    "    {\n",
    "\t\"DeviceID\":\"63da70b3-06d8-4689-9d94-3aea15938ea3\", # globally unique, typically hash\n",
    "\t\"DeviceName\":\"FileServer\", # conveys identification to user/admin, human readable\n",
    "\t\"DeviceLocation\":\"BLD4-F16-M201-2\", # human readable description of abstract location\n",
    "\t\"DeviceTypeName\":\"Network\", \n",
    "\t\"DeviceGroup\":[\"Secure_Smart_Conference_Room_V1\"], # list of administrative groups from UEM or other manager\n",
    "\n",
    "\t\"DeviceAttributes\":{ # colour commentary\n",
    "\t    \"attributes1\":\"\",\n",
    "\t    \"attributes2\":\"\",\n",
    "\t},\n",
    "\n",
    "\t# status of the individual modules as a list of pairs of values\n",
    "\t#INCLUDES the tagging or other information about attack and its impact on the data\n",
    "\t\"Status\": {\"wifi\":\"Connected\",  \"connection_strength\": 10.999}\n",
    "    },\n",
    "    \"User\":{\"UserName\":\"Carol\",\n",
    "            \"UID\":\"10003\"\n",
    "           }\n",
    "}\n",
    "use_fileserver_to_share_data={\n",
    "    \"guid\": \"463f652c-7eac-455d-847c-3017a3ac4e48\", # allows distinguishing simultaneous events\n",
    "    \"timestamp\":\"2018-07-03T22:23:53.581662+00:00\", # ISO in UTC, but could be Unix, not unique\n",
    "    \"event\":{ \n",
    "\t# Not every event contains non-NULL values for each of these\n",
    "\t# but the items *should* be filled with NULL for simplicity of parsing\n",
    "\t\"EventID\":\"386388f3-481d-4d90-9b9d-eb6ae62cbdc6\",  # globally unique id\n",
    "\t\"EventTimestamp\":\"2018-07-03T21:23:22.481662+00:00\", #in the case the event time != report timestamp, not unique\n",
    "\t\"EventType\":\"Request\", # conveys criticality or broad class of the event\n",
    "\t\"EventStatus\":\"Request\", #Request/ Disable\n",
    "\t\"EventName\":\"ShareData\", # a type name, i.e., identifies the action, human readable\n",
    "\t\"EventMessage\":\"Request:ShareData\" # for future use, not generated yet (description of event)\n",
    "    },\n",
    "\n",
    "    \"device\":\n",
    "    {\n",
    "\t\"DeviceID\":\"63da70b3-06d8-4689-9d94-3aea15938ea3\", # globally unique, typically hash\n",
    "\t\"DeviceName\":\"FileServer\", # conveys identification to user/admin, human readable\n",
    "\t\"DeviceLocation\":\"BLD4-F16-M201-2\", # human readable description of abstract location\n",
    "\t\"DeviceTypeName\":\"Network\", \n",
    "\t\"DeviceGroup\":[\"Secure_Smart_Conference_Room_V1\"], # list of administrative groups from UEM or other manager\n",
    "\n",
    "\t\"DeviceAttributes\":{ # colour commentary\n",
    "\t    \"attributes1\":\"\",\n",
    "\t    \"attributes2\":\"\",\n",
    "\t},\n",
    "\n",
    "\t# status of the individual modules as a list of pairs of values\n",
    "\t#INCLUDES the tagging or other information about attack and its impact on the data\n",
    "\t\"Status\": {\"wifi\":\"Connected\",  \"connection_strength\": 10.999}\n",
    "    },\n",
    "    \"User\":{\"UserName\":\"Carol\",\n",
    "            \"UID\":\"10003\"\n",
    "           }\n",
    "}"
   ]
  },
  {
   "cell_type": "code",
   "execution_count": 45,
   "metadata": {},
   "outputs": [
    {
     "name": "stdout",
     "output_type": "stream",
     "text": [
      "Request Approved: StoreData\n",
      "StoreData is activated.\n",
      "Request Approved: ShareData\n",
      "ShareData is activated.\n"
     ]
    }
   ],
   "source": [
    "report_event(use_fileserver_to_store_data)\n",
    "report_event(use_fileserver_to_share_data)"
   ]
  },
  {
   "cell_type": "code",
   "execution_count": 46,
   "metadata": {},
   "outputs": [
    {
     "data": {
      "text/plain": [
       "[['ssso:PlayVideo'],\n",
       " ['ssso:StoreData'],\n",
       " ['ssso:PlayAudio'],\n",
       " ['ssso:CaptureVideo'],\n",
       " ['ssso:Record'],\n",
       " ['ssso:ShareData']]"
      ]
     },
     "execution_count": 46,
     "metadata": {},
     "output_type": "execute_result"
    }
   ],
   "source": [
    "active_service=SmartConferenceRoom.query(PREFIX+\"\"\"select ?serv where{ ?serv ssso:is ssso:Active.}\"\"\")\n",
    "active_service"
   ]
  },
  {
   "cell_type": "code",
   "execution_count": null,
   "metadata": {},
   "outputs": [],
   "source": [
    "#report_threat"
   ]
  },
  {
   "cell_type": "code",
   "execution_count": 47,
   "metadata": {},
   "outputs": [],
   "source": [
    "unexpected_connection_event={\n",
    "    \"guid\": \"95a9c559-9b43-41b5-a270-325e04131735\", # allows distinguishing simultaneous events\n",
    "    \"timestamp\":\"2018-07-03T21:23:42.581662+00:00\", # ISO in UTC, but could be Unix, not unique\n",
    "    \"event\":{ \n",
    "\t# Not every event contains non-NULL values for each of these\n",
    "\t# but the items *should* be filled with NULL for simplicity of parsing\n",
    "\t\"EventID\":\"345b4180-6ed8-43b2-816a-82a83d8ddd01\",  # globally unique id\n",
    "\t\"EventTimestamp\":\"2018-07-03T21:23:43.681662+00:00\", #in the case the event time != report timestamp, not unique\n",
    "\t\"EventType\":\"Threat\", # conveys criticality or broad class of the event\n",
    "\t\"EventStatus\":\"Active\",#Active / mitigated\n",
    "\t\"EventName\":\"Unexpected_Device_Connection\", # a type name, i.e., identifies the action, human readable\n",
    "\t\"EventMessage\":\"Unexpected_Device_Connection:Network\" # for future use, not generated yet (description of event)\n",
    "    },\n",
    "\n",
    "    \"device\":\n",
    "    {\n",
    "\t\"DeviceID\":\"e672ea83-2fb9-4f92-8cc8-d14f068b7d93\", # globally unique, typically hash\n",
    "\t\"DeviceName\":\"Router\", # conveys identification to user/admin, human readable\n",
    "\t\"DeviceLocation\":\"BLD4-F16-M201-2\", # human readable description of abstract location\n",
    "\t\"DeviceTypeName\":\"Network\", # Samsung Galaxy 204, iPhone XXVI, etc.\n",
    "\t\"DeviceGroup\":[\"Secure_Smart_Conference_Room_V1\"], # list of administrative groups from UEM or other manager\n",
    "\n",
    "\t\"DeviceAttributes\":{ # colour commentary\n",
    "\t    \"attributes1\":\"\",\n",
    "\t    \"attributes2\":\"\",\n",
    "\t},\n",
    "\n",
    "\t# status of the individual modules as a list of pairs of values\n",
    "\t#INCLUDES the tagging or other information about attack and its impact on the data\n",
    "\t\"Status\": {\"wifi\":\"Connected\", \"Brightness\": \"80\", \"connection_strength\": 12.013}\n",
    "    }}"
   ]
  },
  {
   "cell_type": "code",
   "execution_count": 48,
   "metadata": {},
   "outputs": [
    {
     "name": "stdout",
     "output_type": "stream",
     "text": [
      "New Threat: Unexpected_Device_Connection_345b4180-6ed8-43b2-816a-82a83d8ddd01 ThreatLevel: TL-Mid\n",
      "[['ssso:Classified']]\n",
      "Security Level degrades to SL-2\n",
      "Record is suspended, since the current security level is not satisified.\n",
      "CaptureVideo is suspended, since the current security level is not satisified.\n",
      "ShareData is suspended, since the current security level is not satisified.\n"
     ]
    }
   ],
   "source": [
    "report_event(unexpected_connection_event)"
   ]
  },
  {
   "cell_type": "code",
   "execution_count": 49,
   "metadata": {},
   "outputs": [
    {
     "data": {
      "text/plain": [
       "[['ssso:PlayVideo'], ['ssso:PlayAudio'], ['ssso:StoreData']]"
      ]
     },
     "execution_count": 49,
     "metadata": {},
     "output_type": "execute_result"
    }
   ],
   "source": [
    "active_service=SmartConferenceRoom.query(PREFIX+\"\"\"select ?serv where{ ?serv rdf:type ssso:Data. ?serv ssso:is ssso:Active.}\"\"\")\n",
    "active_service"
   ]
  },
  {
   "cell_type": "code",
   "execution_count": 50,
   "metadata": {},
   "outputs": [],
   "source": [
    "use_smart_speaker_to_record_meeting={\n",
    "    \"guid\": \"463f652c-7eac-455d-847c-3017a3ac4e48\", # allows distinguishing simultaneous events\n",
    "    \"timestamp\":\"2018-07-03T22:23:53.581662+00:00\", # ISO in UTC, but could be Unix, not unique\n",
    "    \"event\":{ \n",
    "\t# Not every event contains non-NULL values for each of these\n",
    "\t# but the items *should* be filled with NULL for simplicity of parsing\n",
    "\t\"EventID\":\"386388f3-481d-4d90-9b9d-eb6ae62cbdc6\",  # globally unique id\n",
    "\t\"EventTimestamp\":\"2018-07-03T21:23:22.481662+00:00\", #in the case the event time != report timestamp, not unique\n",
    "\t\"EventType\":\"Request\", # conveys criticality or broad class of the event\n",
    "\t\"EventStatus\":\"Request\", #Request/ Disable\n",
    "\t\"EventName\":\"Record\", # a type name, i.e., identifies the action, human readable\n",
    "\t\"EventMessage\":\"Request:Record\" # for future use, not generated yet (description of event)\n",
    "    },\n",
    "\n",
    "    \"device\":\n",
    "    {\n",
    "\t\"DeviceID\":\"63da70b3-06d8-4689-9d94-3aea15938ea1\", # globally unique, typically hash\n",
    "\t\"DeviceName\":\"SmartSpeaker\", # conveys identification to user/admin, human readable\n",
    "\t\"DeviceLocation\":\"BLD4-F16-M201-2\", # human readable description of abstract location\n",
    "\t\"DeviceTypeName\":\"AV\", \n",
    "\t\"DeviceGroup\":[\"Secure_Smart_Conference_Room_V1\"], # list of administrative groups from UEM or other manager\n",
    "\n",
    "\t\"DeviceAttributes\":{ # colour commentary\n",
    "\t    \"attributes1\":\"\",\n",
    "\t    \"attributes2\":\"\",\n",
    "\t},\n",
    "\n",
    "\t# status of the individual modules as a list of pairs of values\n",
    "\t#INCLUDES the tagging or other information about attack and its impact on the data\n",
    "\t\"Status\": {\"wifi\":\"Connected\",  \"connection_strength\": 10.999}\n",
    "    },\n",
    "    \"User\":{\"UserName\":\"Alice\",\n",
    "            \"UID\":\"10001\"\n",
    "           }\n",
    "}"
   ]
  },
  {
   "cell_type": "code",
   "execution_count": 51,
   "metadata": {},
   "outputs": [
    {
     "name": "stdout",
     "output_type": "stream",
     "text": [
      "Request Denied: Low SL current_sl:SL-2 user_sl:SL-4 required_sl:SL-4\n",
      "SL-2 authentication is required.\n",
      "Please use SmartSpeaker to perform NFC_Authentication\n"
     ]
    }
   ],
   "source": [
    "report_event(use_smart_speaker_to_record_meeting)"
   ]
  },
  {
   "cell_type": "code",
   "execution_count": 53,
   "metadata": {},
   "outputs": [
    {
     "name": "stdout",
     "output_type": "stream",
     "text": [
      "sl_update: Alice:SL-4->SL-4\n"
     ]
    }
   ],
   "source": [
    "nfcauth_alice={\n",
    "    \"guid\": \"5a5437eb-4d2a-4409-abbf-760737547747\", # allows distinguishing simultaneous events\n",
    "    \"timestamp\":\"2018-07-03T22:23:53.581662+00:00\", # ISO in UTC, but could be Unix, not unique\n",
    "    \"event\":{ \n",
    "\t# Not every event contains non-NULL values for each of these\n",
    "\t# but the items *should* be filled with NULL for simplicity of parsing\n",
    "\t\"EventID\":\"386388f3-481d-4d90-9b9d-eb6ae62cbdc6\",  # globally unique id\n",
    "\t\"EventTimestamp\":\"2018-07-03T21:23:22.481662+00:00\", #in the case the event time != report timestamp, not unique\n",
    "\t\"EventType\":\"Authentication\", # conveys criticality or broad class of the event\n",
    "\t\"EventStatus\":\"Success\", #Success/Fail\n",
    "\t\"EventName\":\"NFC_Authentication\", # a type name, i.e., identifies the action, human readable\n",
    "\t\"EventMessage\":\"\" # for future use, not generated yet (description of event)\n",
    "    },\n",
    "\n",
    "    \"device\":\n",
    "    {\n",
    "\t\"DeviceID\":\"63da70b3-06d8-4689-9d94-3aea15938ea1\", # globally unique, typically hash\n",
    "\t\"DeviceName\":\"SmartSpeaker\", # conveys identification to user/admin, human readable\n",
    "\t\"DeviceLocation\":\"BLD4-F16-M201-2\", # human readable description of abstract location\n",
    "\t\"DeviceTypeName\":\"AV\", \n",
    "\t\"DeviceGroup\":[\"Secure_Smart_Conference_Room_V1\"], # list of administrative groups from UEM or other manager\n",
    "\n",
    "\t\"DeviceAttributes\":{ # colour commentary\n",
    "\t    \"attributes1\":\"\",\n",
    "\t    \"attributes2\":\"\",\n",
    "\t},\n",
    "\n",
    "\t# status of the individual modules as a list of pairs of values\n",
    "\t#INCLUDES the tagging or other information about attack and its impact on the data\n",
    "\t\"Status\": {\"wifi\":\"Connected\",  \"connection_strength\": 10.999\n",
    "    }\n",
    "    },\n",
    "    \"User\":{\"UserName\":\"Alice\",\n",
    "            \"UID\":\"10001\"\n",
    "           }\n",
    "}\n",
    "report_event(nfcauth_alice)\n",
    "SmartConferenceRoom.remove((ssso['Record'], ssso['is'], ssso['Suspended']))\n",
    "SmartConferenceRoom.add((ssso['Record'], ssso['is'], ssso['Active']))\n",
    "SmartConferenceRoom.commit()\n",
    "SmartConferenceRoom.refresh()"
   ]
  },
  {
   "cell_type": "code",
   "execution_count": 54,
   "metadata": {},
   "outputs": [
    {
     "data": {
      "text/plain": [
       "[['ssso:PlayAudio'], ['ssso:StoreData'], ['ssso:Record'], ['ssso:PlayVideo']]"
      ]
     },
     "execution_count": 54,
     "metadata": {},
     "output_type": "execute_result"
    }
   ],
   "source": [
    "active_service=SmartConferenceRoom.query(PREFIX+\"\"\"select ?serv where{ ?serv rdf:type ssso:Data. ?serv ssso:is ssso:Active.}\"\"\")\n",
    "active_service"
   ]
  },
  {
   "cell_type": "code",
   "execution_count": 55,
   "metadata": {},
   "outputs": [],
   "source": [
    "unexpected_device_connection_mitigated={\n",
    "    \"guid\": \"7acfbfc5-83c8-414c-833a-bf432d38e335\", # allows distinguishing simultaneous events\n",
    "    \"timestamp\":\"2018-07-03T21:23:52.581662+00:00\", # ISO in UTC, but could be Unix, not unique\n",
    "    \"event\":{ \n",
    "\t# Not every event contains non-NULL values for each of these\n",
    "\t# but the items *should* be filled with NULL for simplicity of parsing\n",
    "\t\"EventID\":\"2e8abc72-b5dd-4fbb-b2eb-58c2ff1926df\",  # globally unique id\n",
    "\t\"EventTimestamp\":\"2018-07-03T21:23:52.181662+00:00\", #in the case the event time != report timestamp, not unique\n",
    "\t\"EventType\":\"Threat\", # conveys criticality or broad class of the event\n",
    "\t\"EventStatus\":\"Mitigated:345b4180-6ed8-43b2-816a-82a83d8ddd01\", #Active / Mitigated\n",
    "\t\"EventName\":\"Unexpected_Device_Connection\", # a type name, i.e., identifies the action, human readable\n",
    "\t\"EventMessage\":\"Unexpected_Device_Connection:Network:Compromised\" # for future use, not generated yet (description of event)\n",
    "    },\n",
    "\n",
    "    \"device\":\n",
    "    {\n",
    "\t\"DeviceID\":\"e672ea83-2fb9-4f92-8cc8-d14f068b7d93\", # globally unique, typically hash\n",
    "\t\"DeviceName\":\"Router\", # conveys identification to user/admin, human readable\n",
    "\t\"DeviceLocation\":\"BLD4-F16-M201-2\", # human readable description of abstract location\n",
    "\t\"DeviceTypeName\":\"Network\", # Samsung Galaxy 204, iPhone XXVI, etc.\n",
    "\t\"DeviceGroup\":[\"Secure_Smart_Conference_Room_V1\"], # list of administrative groups from UEM or other manager\n",
    "\n",
    "\t\"DeviceAttributes\":{ # colour commentary\n",
    "\t    \"attributes1\":\"\",\n",
    "\t    \"attributes2\":\"\",\n",
    "\t},\n",
    "\n",
    "\t# status of the individual modules as a list of pairs of values\n",
    "\t#INCLUDES the tagging or other information about attack and its impact on the data\n",
    "\t\"Status\": {\"wifi\":\"Connected\", \"Brightness\": \"80\", \"connection_strength\": 12.013}\n",
    "    }}\n",
    "SmartConferenceRoom.remove((ssso['CurrentSecurityLevel'], ssso['has'], ssso['SL-2']))\n",
    "SmartConferenceRoom.add((ssso['CurrentSecurityLevel'], ssso['has'], ssso['SL-4']))\n",
    "SmartConferenceRoom.commit()\n",
    "SmartConferenceRoom.refresh()"
   ]
  },
  {
   "cell_type": "code",
   "execution_count": 56,
   "metadata": {},
   "outputs": [
    {
     "name": "stdout",
     "output_type": "stream",
     "text": [
      "Threat Removed: Unexpected_Device_Connection_345b4180-6ed8-43b2-816a-82a83d8ddd01\n",
      "[['ssso:Classified']]\n",
      "ShareData is resumed, since the threat is mitigated and current security level is satisified.\n",
      "CaptureVideo is resumed, since the threat is mitigated and current security level is satisified.\n"
     ]
    }
   ],
   "source": [
    "report_event(unexpected_device_connection_mitigated)"
   ]
  },
  {
   "cell_type": "code",
   "execution_count": 57,
   "metadata": {},
   "outputs": [
    {
     "data": {
      "text/plain": [
       "[['ssso:PlayVideo'],\n",
       " ['ssso:Record'],\n",
       " ['ssso:CaptureVideo'],\n",
       " ['ssso:ShareData'],\n",
       " ['ssso:PlayAudio'],\n",
       " ['ssso:StoreData']]"
      ]
     },
     "execution_count": 57,
     "metadata": {},
     "output_type": "execute_result"
    }
   ],
   "source": [
    "active_service=SmartConferenceRoom.query(PREFIX+\"\"\"select ?serv where{ ?serv rdf:type ssso:Data. ?serv ssso:is ssso:Active.}\"\"\")\n",
    "active_service"
   ]
  },
  {
   "cell_type": "code",
   "execution_count": 58,
   "metadata": {},
   "outputs": [],
   "source": [
    "unexpected_expected_door_open={\n",
    "    \"guid\": \"bfd478ac-2d27-454d-8e7d-59bf735b0844\", # allows distinguishing simultaneous events\n",
    "    \"timestamp\":\"2018-07-03T21:23:42.581662+00:00\", # ISO in UTC, but could be Unix, not unique\n",
    "    \"event\":{ \n",
    "\t# Not every event contains non-NULL values for each of these\n",
    "\t# but the items *should* be filled with NULL for simplicity of parsing\n",
    "\t\"EventID\":\"1327502c-522b-413e-9bc9-ca3ee8b0ddb8\",  # globally unique id\n",
    "\t\"EventTimestamp\":\"2018-07-03T21:23:43.681662+00:00\", #in the case the event time != report timestamp, not unique\n",
    "\t\"EventType\":\"Threat\", # conveys criticality or broad class of the event\n",
    "\t\"EventStatus\":\"Active\",#Active / mitigated\n",
    "\t\"EventName\":\"Unexpected_Door_Open\", # a type name, i.e., identifies the action, human readable\n",
    "\t\"EventMessage\":\"Unexpected_Door_Open:Compromised:Environment\" # for future use, not generated yet (description of event)\n",
    "    },\n",
    "\n",
    "    \"device\":\n",
    "    {\n",
    "\t\"DeviceID\":\"e672ea83-2fb9-4f92-8cc8-d14f068b7d93\", # globally unique, typically hash\n",
    "\t\"DeviceName\":\"SmartDoorLock\", # conveys identification to user/admin, human readable\n",
    "\t\"DeviceLocation\":\"BLD4-F16-M201-2\", # human readable description of abstract location\n",
    "\t\"DeviceTypeName\":\"Lock\", # Samsung Galaxy 204, iPhone XXVI, etc.\n",
    "\t\"DeviceGroup\":[\"Secure_Smart_Conference_Room_V1\"], # list of administrative groups from UEM or other manager\n",
    "\n",
    "\t\"DeviceAttributes\":{ # colour commentary\n",
    "\t    \"attributes1\":\"\",\n",
    "\t    \"attributes2\":\"\",\n",
    "\t},\n",
    "\n",
    "\t# status of the individual modules as a list of pairs of values\n",
    "\t#INCLUDES the tagging or other information about attack and its impact on the data\n",
    "\t\"Status\": {\"wifi\":\"Connected\", \"connection_strength\": 12.013}\n",
    "    }}"
   ]
  },
  {
   "cell_type": "code",
   "execution_count": 59,
   "metadata": {},
   "outputs": [
    {
     "name": "stdout",
     "output_type": "stream",
     "text": [
      "New Threat: Unexpected_Door_Open_1327502c-522b-413e-9bc9-ca3ee8b0ddb8 ThreatLevel: TL-High\n",
      "[['ssso:Classified']]\n",
      "Security Level degrades to SL-0\n",
      "PlayAudio is suspended, since the current security level is not satisified.\n",
      "ShareData is suspended, since the current security level is not satisified.\n",
      "Record is suspended, since the current security level is not satisified.\n",
      "PlayVideo is suspended, since the current security level is not satisified.\n",
      "CaptureVideo is suspended, since the current security level is not satisified.\n",
      "StoreData is suspended, since the current security level is not satisified.\n"
     ]
    }
   ],
   "source": [
    "report_event(unexpected_expected_door_open)"
   ]
  },
  {
   "cell_type": "code",
   "execution_count": 60,
   "metadata": {},
   "outputs": [],
   "source": [
    "use_projector_to_play_video={\n",
    "    \"guid\": \"463f652c-7eac-455d-847c-3017a3ac4e48\", # allows distinguishing simultaneous events\n",
    "    \"timestamp\":\"2018-07-03T22:23:53.581662+00:00\", # ISO in UTC, but could be Unix, not unique\n",
    "    \"event\":{ \n",
    "\t# Not every event contains non-NULL values for each of these\n",
    "\t# but the items *should* be filled with NULL for simplicity of parsing\n",
    "\t\"EventID\":\"386388f3-481d-4d90-9b9d-eb6ae62cbdc6\",  # globally unique id\n",
    "\t\"EventTimestamp\":\"2018-07-03T21:23:22.481662+00:00\", #in the case the event time != report timestamp, not unique\n",
    "\t\"EventType\":\"Request\", # conveys criticality or broad class of the event\n",
    "\t\"EventStatus\":\"Request\", #Request/ Disable\n",
    "\t\"EventName\":\"PlayVideo\", # a type name, i.e., identifies the action, human readable\n",
    "\t\"EventMessage\":\"Request:PlayVideo\" # for future use, not generated yet (description of event)\n",
    "    },\n",
    "\n",
    "    \"device\":\n",
    "    {\n",
    "\t\"DeviceID\":\"63da70b3-06d8-4689-9d94-3aea15938ea3\", # globally unique, typically hash\n",
    "\t\"DeviceName\":\"Projector\", # conveys identification to user/admin, human readable\n",
    "\t\"DeviceLocation\":\"BLD4-F16-M201-2\", # human readable description of abstract location\n",
    "\t\"DeviceTypeName\":\"AV\", \n",
    "\t\"DeviceGroup\":[\"Secure_Smart_Conference_Room_V1\"], # list of administrative groups from UEM or other manager\n",
    "\n",
    "\t\"DeviceAttributes\":{ # colour commentary\n",
    "\t    \"attributes1\":\"\",\n",
    "\t    \"attributes2\":\"\",\n",
    "\t},\n",
    "\n",
    "\t# status of the individual modules as a list of pairs of values\n",
    "\t#INCLUDES the tagging or other information about attack and its impact on the data\n",
    "\t\"Status\": {\"wifi\":\"Connected\",  \"connection_strength\": 10.999}\n",
    "    },\n",
    "    \"User\":{\"UserName\":\"Alice\",\n",
    "            \"UID\":\"10001\"\n",
    "           }\n",
    "}"
   ]
  },
  {
   "cell_type": "code",
   "execution_count": 61,
   "metadata": {},
   "outputs": [
    {
     "name": "stdout",
     "output_type": "stream",
     "text": [
      "Request Denied: Low SL current_sl:SL-0 user_sl:SL-4 required_sl:SL-2\n",
      "SL-2 authentication is required.\n",
      "Please use SmartSpeaker to perform Voice_Authentication\n"
     ]
    }
   ],
   "source": [
    "report_event(use_projector_to_play_video)"
   ]
  },
  {
   "cell_type": "code",
   "execution_count": null,
   "metadata": {},
   "outputs": [],
   "source": []
  },
  {
   "cell_type": "code",
   "execution_count": null,
   "metadata": {},
   "outputs": [],
   "source": []
  },
  {
   "cell_type": "code",
   "execution_count": null,
   "metadata": {},
   "outputs": [],
   "source": [
    "event_name=event[\"event\"][\"EventName\"]\n",
    "ql=\"\"\"select ?t where{ssso:%s ssso:is ?t.}\"\"\"%event_name"
   ]
  },
  {
   "cell_type": "code",
   "execution_count": null,
   "metadata": {},
   "outputs": [],
   "source": [
    "ql"
   ]
  },
  {
   "cell_type": "code",
   "execution_count": null,
   "metadata": {},
   "outputs": [],
   "source": [
    "SmartConferenceRoom.query(PREFIX+ql)[0][0]==\"ssso:Template\""
   ]
  },
  {
   "cell_type": "code",
   "execution_count": null,
   "metadata": {},
   "outputs": [],
   "source": [
    "event_id=event[\"event\"][\"EventID\"]"
   ]
  },
  {
   "cell_type": "code",
   "execution_count": null,
   "metadata": {},
   "outputs": [],
   "source": [
    "event_id"
   ]
  },
  {
   "cell_type": "code",
   "execution_count": null,
   "metadata": {},
   "outputs": [],
   "source": [
    "ssso[event_name+'_'+event_id]"
   ]
  },
  {
   "cell_type": "code",
   "execution_count": null,
   "metadata": {},
   "outputs": [],
   "source": [
    "SmartConferenceRoom.query(PREFIX+\"\"\"select ?tl where{?tl rdf:type ssso:ThreatLevel. ssso:%s ssso:has ?tl.}\"\"\"%event_name)[0][0].split(':')[-1]"
   ]
  },
  {
   "cell_type": "code",
   "execution_count": null,
   "metadata": {},
   "outputs": [],
   "source": [
    "device_name=event[\"device\"][\"DeviceName\"]\n",
    "device_name"
   ]
  },
  {
   "cell_type": "code",
   "execution_count": null,
   "metadata": {},
   "outputs": [],
   "source": [
    "q = \"\"\"\n",
    "PREFIX rdf: <http://www.w3.org/1999/02/22-rdf-syntax-ns#>\n",
    "PREFIX ssso: <http://www.semanticweb.org/linch/ontologies/2018/11/ssso#>\n",
    "select ?t where {\n",
    "?t rdf:type ssso:Threat.\n",
    "?t ssso:is ssso:Active.\n",
    "}\n",
    "\"\"\"\n",
    "SmartConferenceRoom.query(q)"
   ]
  },
  {
   "cell_type": "code",
   "execution_count": null,
   "metadata": {},
   "outputs": [],
   "source": [
    "SmartConferenceRoom.remove((ssso['Unexpected_Occupancy_82b69dc9-cdbb-4637-ac7a-2141b4fee214'],None,None))"
   ]
  },
  {
   "cell_type": "code",
   "execution_count": null,
   "metadata": {},
   "outputs": [],
   "source": [
    "event_name+'_'+event_id"
   ]
  },
  {
   "cell_type": "code",
   "execution_count": null,
   "metadata": {},
   "outputs": [],
   "source": [
    "q = \"\"\"\n",
    "PREFIX rdf: <http://www.w3.org/1999/02/22-rdf-syntax-ns#>\n",
    "PREFIX ssso: <http://www.semanticweb.org/linch/ontologies/2018/11/ssso#>\n",
    "select ?tl where {\n",
    "?tl rdf:type ssso:ThreatLevel.\n",
    "ssso:Unexpected_Occupancy_82b69dc9-cdbb-4637-ac7a-2141b4fee214 ssso:has ?tl\n",
    "}\n",
    "\"\"\"\n",
    "SmartConferenceRoom.query(q)\n"
   ]
  },
  {
   "cell_type": "code",
   "execution_count": null,
   "metadata": {},
   "outputs": [],
   "source": [
    "SmartConferenceRoom.add((ssso[event_name+'_'+event_id], RDF.type, ssso['Threat']))"
   ]
  },
  {
   "cell_type": "code",
   "execution_count": null,
   "metadata": {},
   "outputs": [],
   "source": [
    "tl=SmartConferenceRoom.query(PREFIX+\"\"\"select ?tl where{?tl rdf:type ssso:ThreatLevel. ssso:%s ssso:has ?tl.}\"\"\"%event_name)[0][0].split(':')[-1]\n",
    "SmartConferenceRoom.add((ssso[event_name+'_'+event_id], ssso['has'], ssso[tl]))"
   ]
  },
  {
   "cell_type": "code",
   "execution_count": null,
   "metadata": {},
   "outputs": [],
   "source": [
    "SmartConferenceRoom.add((ssso[event_name+'_'+event_id], ssso['is'], ssso['Active'])) #Status: Active Threat"
   ]
  },
  {
   "cell_type": "code",
   "execution_count": null,
   "metadata": {},
   "outputs": [],
   "source": [
    "event_id.replace('-','_')"
   ]
  },
  {
   "cell_type": "code",
   "execution_count": null,
   "metadata": {},
   "outputs": [],
   "source": [
    "SmartConferenceRoom.query(PREFIX+ql)"
   ]
  },
  {
   "cell_type": "code",
   "execution_count": null,
   "metadata": {},
   "outputs": [],
   "source": [
    "event_status=occupancy_camera_event_mitigated[\"event\"][\"EventStatus\"]\n",
    "ql=\"\"\"select ?t where{ssso:%s ssso:is ?t.}\"\"\"%(event_name+event_status.split(\":\")[1])\n",
    "res=SmartConferenceRoom.query(PREFIX+ql)\n",
    "res"
   ]
  },
  {
   "cell_type": "code",
   "execution_count": null,
   "metadata": {},
   "outputs": [],
   "source": [
    "event_name=occupancy_camera_event_mitigated[\"event\"][\"EventName\"]\n",
    "event_status=occupancy_camera_event_mitigated[\"event\"][\"EventStatus\"]\n",
    "event_name+event_status.split(\":\")[1]"
   ]
  },
  {
   "cell_type": "code",
   "execution_count": null,
   "metadata": {},
   "outputs": [],
   "source": [
    "ql=\"\"\"select ?t where{?t rdf:type ssso:Threat.}\"\"\"\n",
    "res=SmartConferenceRoom.query(PREFIX+ql)\n",
    "res"
   ]
  },
  {
   "cell_type": "code",
   "execution_count": null,
   "metadata": {},
   "outputs": [],
   "source": [
    "SmartConferenceRoom.remove((ssso['Unexpected_Occupancy_82b69dc9-cdbb-4637-ac7a-2141b4fee214'],None,None))"
   ]
  },
  {
   "cell_type": "code",
   "execution_count": null,
   "metadata": {},
   "outputs": [],
   "source": [
    "SmartConferenceRoom.refresh()"
   ]
  },
  {
   "cell_type": "code",
   "execution_count": null,
   "metadata": {},
   "outputs": [],
   "source": [
    "ql=\"\"\"select ?t where{?t rdf:type ssso:Status. ssso:%s ssso:is ?t.}\"\"\"%irisauth_alice[\"event\"][\"EventName\"]\n",
    "res=SmartConferenceRoom.query(PREFIX+ql)\n",
    "res\n",
    "sl=SmartConferenceRoom.query(PREFIX+\"\"\"select ?sl where{?sl rdf:type ssso:SecurityLevel. ssso:%s ssso:provides ?sl.}\"\"\"%irisauth_alice[\"event\"][\"EventName\"])[0][0].split(':')[-1]\n",
    "sl"
   ]
  },
  {
   "cell_type": "code",
   "execution_count": null,
   "metadata": {},
   "outputs": [],
   "source": [
    "uid='10001'\n",
    "name=(\"\"\"select ?u where{?u rdf:type ssso:User. ?u ssso:has ssso:%s.}\"\"\"%uid)[0][0].split(':')[-1]\n",
    "name"
   ]
  },
  {
   "cell_type": "code",
   "execution_count": null,
   "metadata": {},
   "outputs": [],
   "source": [
    "name=SmartConferenceRoom.query((PREFIX+\"\"\"select ?n where{?n rdf:type ssso:User. ?n ssso:has ssso:%s .}\"\"\"%uid))[0][0].split(':')[-1]\n",
    "\n",
    "name"
   ]
  },
  {
   "cell_type": "code",
   "execution_count": null,
   "metadata": {},
   "outputs": [],
   "source": [
    "PREFIX+\"\"\"select ?n where{?n rdf:type ssso:User. ?n ssso:has ssso:%s.}\"\"\"%uid"
   ]
  },
  {
   "cell_type": "code",
   "execution_count": null,
   "metadata": {},
   "outputs": [],
   "source": [
    "username=\"Alice\"\n",
    "usl=SmartConferenceRoom.query(PREFIX+\"\"\"select ?sl where{?sl rdf:type ssso:SecurityLevel. ssso:%s ssso:has ?sl.}\"\"\"%username)[0][0].split(':')[-1]\n",
    "usl"
   ]
  },
  {
   "cell_type": "code",
   "execution_count": null,
   "metadata": {},
   "outputs": [],
   "source": [
    "\"1%s2%s\"%(1,2)"
   ]
  },
  {
   "cell_type": "code",
   "execution_count": null,
   "metadata": {},
   "outputs": [],
   "source": [
    "sl_update('Alice','SL-4')"
   ]
  },
  {
   "cell_type": "code",
   "execution_count": null,
   "metadata": {},
   "outputs": [],
   "source": [
    "SmartConferenceRoom.remove((ssso['Alice'],ssso['has'],ssso['SL-4']))\n",
    "SmartConferenceRoom.add((ssso['Alice'],ssso['has'],ssso['SL-0']))"
   ]
  },
  {
   "cell_type": "code",
   "execution_count": null,
   "metadata": {},
   "outputs": [],
   "source": [
    "irisauth_alice.keys()"
   ]
  },
  {
   "cell_type": "code",
   "execution_count": null,
   "metadata": {},
   "outputs": [],
   "source": [
    "prev_sl=SmartConferenceRoom.query(PREFIX+\"\"\"select ?sl where{?sl rdf:type ssso:SecurityLevel. ssso:%s ssso:has ?sl.}\"\"\"%'Alice')[0][0].split(':')[-1]"
   ]
  },
  {
   "cell_type": "code",
   "execution_count": null,
   "metadata": {},
   "outputs": [],
   "source": [
    "prev_sl"
   ]
  },
  {
   "cell_type": "code",
   "execution_count": null,
   "metadata": {},
   "outputs": [],
   "source": [
    "servicename='OpenDoor'\n",
    "ql=\"\"\"select ?sl where{?sl rdf:type ssso:SecurityLevel. ssso:%s ssso:requires ?sl.}\"\"\"%servicename\n",
    "res=SmartConferenceRoom.query(PREFIX+ql)\n",
    "res"
   ]
  },
  {
   "cell_type": "code",
   "execution_count": null,
   "metadata": {},
   "outputs": [],
   "source": [
    "current_sl=SmartConferenceRoom.query(PREFIX+\"\"\"select ?sl where{ssso:CurrentSecurityLevel ssso:has ?sl.}\"\"\")\n",
    "current_sl"
   ]
  },
  {
   "cell_type": "code",
   "execution_count": null,
   "metadata": {},
   "outputs": [],
   "source": [
    "int('SL-4'[-1])-int('SL-2'[-1])"
   ]
  },
  {
   "cell_type": "code",
   "execution_count": null,
   "metadata": {},
   "outputs": [],
   "source": [
    "de=SmartConferenceRoom.query(PREFIX+\"\"\"select ?e where{?e rdf:SubClassOf ssso:Equipment.}\"\"\")\n",
    "de"
   ]
  },
  {
   "cell_type": "code",
   "execution_count": null,
   "metadata": {},
   "outputs": [],
   "source": [
    "ql=\"\"\"select ?st where{?st rdf:type ssso:Status. ssso:%s ssso:is ?st.}\"\"\"%'SmartDoorLock'\n",
    "res=SmartConferenceRoom.query(PREFIX+ql)\n",
    "res[0][0].split(':')[-1]"
   ]
  },
  {
   "cell_type": "code",
   "execution_count": null,
   "metadata": {},
   "outputs": [],
   "source": [
    "sl_diff('SL-2','SL-4')"
   ]
  },
  {
   "cell_type": "code",
   "execution_count": null,
   "metadata": {},
   "outputs": [],
   "source": [
    "max('SL-2','SL-3')"
   ]
  },
  {
   "cell_type": "code",
   "execution_count": null,
   "metadata": {},
   "outputs": [],
   "source": [
    "ql=\"\"\"select ?as where{?as rdf:type ssso:Authentication. ?as ssso:provides ssso:%s. ssso:%s ssso:provides ?as.}\"\"\"%('SL-2','SmartDoorLock')\n",
    "res=SmartConferenceRoom.query(PREFIX+ql)\n",
    "res"
   ]
  },
  {
   "cell_type": "code",
   "execution_count": null,
   "metadata": {},
   "outputs": [],
   "source": [
    "import random"
   ]
  },
  {
   "cell_type": "code",
   "execution_count": null,
   "metadata": {},
   "outputs": [],
   "source": [
    "random.sample(res,1)"
   ]
  },
  {
   "cell_type": "code",
   "execution_count": null,
   "metadata": {},
   "outputs": [],
   "source": [
    "prev_auth=SmartConferenceRoom.query(PREFIX+\"\"\"select ?au where{?au rdf:type ssso:Authentication. ssso:%s ssso:isProvidedBy ?au.}\"\"\"%'Alice')\n",
    "prev_auth"
   ]
  },
  {
   "cell_type": "code",
   "execution_count": null,
   "metadata": {},
   "outputs": [],
   "source": [
    "prev_auth=SmartConferenceRoom.query(PREFIX+\"\"\"select ?au where{?au rdf:type ssso:Authentication. ssso:%s ssso:isProvidedBy ?au.}\"\"\"%'Bob')\n",
    "'Face_' in prev_auth[0][0]"
   ]
  },
  {
   "cell_type": "code",
   "execution_count": null,
   "metadata": {},
   "outputs": [],
   "source": [
    "SmartConferenceRoom.add((ssso['Bob'],ssso['has'],ssso['SL-0']))"
   ]
  },
  {
   "cell_type": "code",
   "execution_count": null,
   "metadata": {},
   "outputs": [],
   "source": [
    "SmartConferenceRoom.remove((ssso['Bob'],ssso['isProvidedBy'],ssso['Face_Authentication']))"
   ]
  },
  {
   "cell_type": "code",
   "execution_count": null,
   "metadata": {},
   "outputs": [],
   "source": [
    "SmartConferenceRoom.commit()"
   ]
  },
  {
   "cell_type": "code",
   "execution_count": null,
   "metadata": {},
   "outputs": [],
   "source": [
    "SmartConferenceRoom.refresh()"
   ]
  },
  {
   "cell_type": "code",
   "execution_count": null,
   "metadata": {},
   "outputs": [],
   "source": [
    "obj='SmartDoorLock'\n",
    "prev_auth=SmartConferenceRoom.query(PREFIX+\"\"\"select ?au where{?au rdf:type ssso:Authentication. ssso:%s ssso:provides ?au. ?au ssso:provides ssso:%s}\"\"\"%(obj,'SL-1'))\n",
    "prev_auth"
   ]
  },
  {
   "cell_type": "code",
   "execution_count": null,
   "metadata": {},
   "outputs": [],
   "source": [
    "obj='SmartDoorLock'\n",
    "prev_auth=SmartConferenceRoom.query(PREFIX+\"\"\"select ?au where{?au rdf:type ssso:Authentication. ?au ssso:provides ssso:%s. ssso:%s ssso:provides ?au. ssso:%s ssso:is ssso:Enabled.}\"\"\"%('SL-1',obj,obj))\n",
    "prev_auth"
   ]
  },
  {
   "cell_type": "code",
   "execution_count": null,
   "metadata": {},
   "outputs": [],
   "source": [
    "sl_satisfied_auth=SmartConferenceRoom.query(PREFIX+\"\"\"select ?au where{?au rdf:type ssso:Authentication. ?au ssso:provides ssso:%s.}\"\"\"%('SL-1'))\n",
    "sl_satisfied_auth"
   ]
  },
  {
   "cell_type": "code",
   "execution_count": null,
   "metadata": {},
   "outputs": [],
   "source": [
    "usr_prev_auth=SmartConferenceRoom.query(PREFIX+\"\"\"select ?au where{?au rdf:type ssso:Authentication. ssso:%s ssso:isProvidedBy ?au.}\"\"\"%'Bob')\n",
    "usr_prev_auth"
   ]
  },
  {
   "cell_type": "code",
   "execution_count": null,
   "metadata": {},
   "outputs": [],
   "source": [
    "sl_satisfied_auth=SmartConferenceRoom.query(PREFIX+\"\"\"select ?au where{?au rdf:type ssso:Authentication. ?au ssso:provides ssso:%s.}\"\"\"%('SL-1'))\n",
    "sl_satisfied_auth"
   ]
  },
  {
   "cell_type": "code",
   "execution_count": null,
   "metadata": {},
   "outputs": [],
   "source": [
    "for i in range(len(current_device_auth)):\n",
    "    for j in range(len(usr_prev_auth)):\n",
    "        if(usr_prev_auth[j][0]==current_device_auth[i][0]):\n",
    "            current_device_auth.remove([usr_prev_auth[j][0]])\n",
    "for i in range(len(sl_satisfied_auth)):\n",
    "    for j in range(len(usr_prev_auth)):\n",
    "        if(usr_prev_auth[j][0]==sl_satisfied_auth[i][0]):\n",
    "            sl_satisfied_auth.remove([usr_prev_auth[j][0]])"
   ]
  },
  {
   "cell_type": "code",
   "execution_count": null,
   "metadata": {},
   "outputs": [],
   "source": [
    "sl_satisfied_auth.remove(['ssso:NFC_Authentication'])"
   ]
  },
  {
   "cell_type": "code",
   "execution_count": null,
   "metadata": {},
   "outputs": [],
   "source": [
    "random.sample(sl_satisfied_auth,1)[0][0].split(':')[-1]"
   ]
  },
  {
   "cell_type": "code",
   "execution_count": null,
   "metadata": {},
   "outputs": [],
   "source": [
    "au=random.sample(sl_satisfied_auth,1)[0][0].split(':')[-1]\n",
    "au"
   ]
  },
  {
   "cell_type": "code",
   "execution_count": null,
   "metadata": {},
   "outputs": [],
   "source": [
    "dev=SmartConferenceRoom.query(PREFIX+\"\"\"select ?dev where{?dev ssso:is ssso:Enabled. ?dev ssso:provides ssso:%s.}\"\"\"%(au))\n",
    "random.sample(dev,1)[0][0].split(':')[-1]"
   ]
  },
  {
   "cell_type": "code",
   "execution_count": null,
   "metadata": {},
   "outputs": [],
   "source": [
    "current_device_auth=SmartConferenceRoom.query(PREFIX+\"\"\"select ?au where{?au rdf:type ssso:Authentication. ?au ssso:provides ssso:%s. ssso:%s ssso:provides ?au. ssso:%s ssso:is ssso:Enabled.}\"\"\"%('SL-2','SmartDoorLock','SmartDoorLock'))\n",
    "current_device_auth"
   ]
  },
  {
   "cell_type": "code",
   "execution_count": null,
   "metadata": {},
   "outputs": [],
   "source": [
    "usr_prev_auth=SmartConferenceRoom.query(PREFIX+\"\"\"select ?au where{?au rdf:type ssso:Authentication. ssso:%s ssso:isProvidedBy ?au.}\"\"\"%'Carol')\n",
    "usr_prev_auth"
   ]
  },
  {
   "cell_type": "code",
   "execution_count": null,
   "metadata": {},
   "outputs": [],
   "source": [
    "for i in range(len(current_device_auth)):\n",
    "    for j in range(len(usr_prev_auth)):\n",
    "        print(i,j)\n",
    "        if(usr_prev_auth[j][0]==current_device_auth[i][0]):\n",
    "             current_device_auth[j]=['Invalid']\n",
    "current_device_auth.remove(['Invalid'])"
   ]
  },
  {
   "cell_type": "code",
   "execution_count": null,
   "metadata": {},
   "outputs": [],
   "source": [
    "usr_prev_auth[0][0]"
   ]
  },
  {
   "cell_type": "code",
   "execution_count": null,
   "metadata": {},
   "outputs": [],
   "source": [
    "current_device_auth[0][0]"
   ]
  },
  {
   "cell_type": "code",
   "execution_count": null,
   "metadata": {},
   "outputs": [],
   "source": [
    "current_device_auth.remove(['Invalid'])"
   ]
  },
  {
   "cell_type": "code",
   "execution_count": null,
   "metadata": {},
   "outputs": [],
   "source": [
    "current_device_auth"
   ]
  },
  {
   "cell_type": "code",
   "execution_count": null,
   "metadata": {},
   "outputs": [],
   "source": [
    "servicename='Record'\n",
    "service_category=SmartConferenceRoom.query(PREFIX+\"\"\"select ?sc where{?sc rdfs:subClassOf ssso:Service. ssso:%s rdf:type ?sc.}\"\"\"%servicename)\n",
    "service_category"
   ]
  },
  {
   "cell_type": "code",
   "execution_count": null,
   "metadata": {},
   "outputs": [],
   "source": [
    "['ssso:Sense'] in service_category"
   ]
  },
  {
   "cell_type": "code",
   "execution_count": null,
   "metadata": {},
   "outputs": [],
   "source": [
    "sldegradation('SL-4','TL-Low')"
   ]
  },
  {
   "cell_type": "code",
   "execution_count": null,
   "metadata": {},
   "outputs": [],
   "source": [
    "tl=SmartConferenceRoom.query(PREFIX+\"\"\"select ?tl where {?tr rdf:type ssso:Threat. ?tl rdf:type ssso:ThreatLevel.?tr ssso:is ssso:Active. ?tr ssso:has ?tl}\"\"\")\n",
    "tl"
   ]
  },
  {
   "cell_type": "code",
   "execution_count": null,
   "metadata": {},
   "outputs": [],
   "source": [
    "max('TL-High','TL-Mid')"
   ]
  },
  {
   "cell_type": "code",
   "execution_count": null,
   "metadata": {},
   "outputs": [],
   "source": [
    "max_tl(tl)"
   ]
  },
  {
   "cell_type": "code",
   "execution_count": null,
   "metadata": {},
   "outputs": [],
   "source": [
    "ql=\"\"\"select ?t where{ssso:%s ssso:has ?t.}\"\"\"%'Unexpected_Device_Connection'\n",
    "res=SmartConferenceRoom.query(PREFIX+ql)\n",
    "res"
   ]
  },
  {
   "cell_type": "code",
   "execution_count": null,
   "metadata": {},
   "outputs": [],
   "source": [
    "active_service=SmartConferenceRoom.query(PREFIX+\"\"\"select ?serv where{ ?serv rdf:type ssso:Data. ?serv ssso:is ssso:Active.}\"\"\")\n",
    "active_service"
   ]
  },
  {
   "cell_type": "code",
   "execution_count": null,
   "metadata": {},
   "outputs": [],
   "source": [
    "active_service2=SmartConferenceRoom.query(PREFIX+\"\"\"select ?serv where{ ?t rdfs:subClassOf ssso:Service. ?serv rdf:type ?t. ?serv ssso:is ssso:Active.}\"\"\")\n",
    "active_service2"
   ]
  },
  {
   "cell_type": "code",
   "execution_count": null,
   "metadata": {},
   "outputs": [],
   "source": [
    "sl_satisfied_auth=SmartConferenceRoom.query(PREFIX+\"\"\"select ?au where{?au rdf:type ssso:Authentication. ?au ssso:provides ssso:%s. }\"\"\"%('SL-2'))\n",
    "sl_satisfied_auth"
   ]
  },
  {
   "cell_type": "code",
   "execution_count": null,
   "metadata": {},
   "outputs": [],
   "source": []
  }
 ],
 "metadata": {
  "kernelspec": {
   "display_name": "Python 2",
   "language": "python",
   "name": "python2"
  },
  "language_info": {
   "codemirror_mode": {
    "name": "ipython",
    "version": 2
   },
   "file_extension": ".py",
   "mimetype": "text/x-python",
   "name": "python",
   "nbconvert_exporter": "python",
   "pygments_lexer": "ipython2",
   "version": "2.7.15"
  }
 },
 "nbformat": 4,
 "nbformat_minor": 2
}
